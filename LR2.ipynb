{
 "cells": [
  {
   "cell_type": "code",
   "execution_count": 9,
   "metadata": {},
   "outputs": [
    {
     "data": {
      "text/plain": [
       "9988"
      ]
     },
     "execution_count": 9,
     "metadata": {},
     "output_type": "execute_result"
    }
   ],
   "source": [
    "#Read the json FIle contain tweets and there labes \n",
    "#For train and test\n",
    "from pyspark.sql import SparkSession\n",
    "jobDir = \"tweets111.json\"\n",
    "tweets = spark.read.json([jobDir])\n",
    "tweets.count() #number of tweets in the file"
   ]
  },
  {
   "cell_type": "code",
   "execution_count": 10,
   "metadata": {},
   "outputs": [
    {
     "name": "stdout",
     "output_type": "stream",
     "text": [
      "root\n",
      " |-- text: string (nullable = true)\n",
      " |-- Category: string (nullable = true)\n",
      "\n"
     ]
    }
   ],
   "source": [
    "#select the object in json file\n",
    "tweets = tweets.select(\"text\", \\\n",
    "                     \"Category\" )\n",
    "\n",
    "tweets.printSchema()"
   ]
  },
  {
   "cell_type": "code",
   "execution_count": 11,
   "metadata": {},
   "outputs": [],
   "source": [
    "from pyspark.ml.feature import RegexTokenizer,CountVectorizer\n",
    "from pyspark.ml.classification import LogisticRegression\n",
    "# regular expression tokenizer\n",
    "regexTokenizer = RegexTokenizer(inputCol=\"text\", outputCol=\"words\")\n",
    "#convert a collection of text documents to vectors of token counts. \n",
    "countVectors = CountVectorizer(inputCol=\"words\", outputCol=\"features\")"
   ]
  },
  {
   "cell_type": "code",
   "execution_count": 12,
   "metadata": {},
   "outputs": [
    {
     "name": "stdout",
     "output_type": "stream",
     "text": [
      "+-------------------------------------------------+--------+-----------------------------------------------------------+-----+----------------------------------------------------------------------------------------------+\n",
      "|text                                             |Category|words                                                      |label|features                                                                                      |\n",
      "+-------------------------------------------------+--------+-----------------------------------------------------------+-----+----------------------------------------------------------------------------------------------+\n",
      "|والل عجب عشان كتاب انجليز صعب كلم                |POS     |[والل, عجب, عشان, كتاب, انجليز, صعب, كلم]                  |1.0  |(19722,[47,92,176,419,588,1350,6837],[1.0,1.0,1.0,1.0,1.0,1.0,1.0])                           |\n",
      "|انه رنامج رايع يترجم كلم قطع باقص سرع            |POS     |[انه, رنامج, رايع, يترجم, كلم, قطع, باقص, سرع]             |1.0  |(19722,[22,176,291,308,1180,2074,2930,12880],[1.0,1.0,1.0,1.0,1.0,1.0,1.0,1.0])               |\n",
      "|رنامج جميل جدا يترجم كلم جمل فعل روع             |POS     |[رنامج, جميل, جدا, يترجم, كلم, جمل, فعل, روع]              |1.0  |(19722,[99,116,135,176,308,1497,2930,3764],[1.0,1.0,1.0,1.0,1.0,1.0,1.0,1.0])                 |\n",
      "|قمه روعه الف شكر تقدير مجهود نافع جدا تحي احترام |POS     |[قمه, روعه, الف, شكر, تقدير, مجهود, نافع, جدا, تحي, احترام]|1.0  |(19722,[97,99,108,485,768,1231,1763,2351,4526,5724],[1.0,1.0,1.0,1.0,1.0,1.0,1.0,1.0,1.0,1.0])|\n",
      "|جميل اشخاص ايجد انجلزيه                          |POS     |[جميل, اشخاص, ايجد, انجلزيه]                               |1.0  |(19722,[116,707,17003,18478],[1.0,1.0,1.0,1.0])                                               |\n",
      "+-------------------------------------------------+--------+-----------------------------------------------------------+-----+----------------------------------------------------------------------------------------------+\n",
      "only showing top 5 rows\n",
      "\n"
     ]
    }
   ],
   "source": [
    "from pyspark.ml import Pipeline\n",
    "from pyspark.ml.feature import  StringIndexer\n",
    "#StringIndexer encodes a string column of labels to a column of label indices.\n",
    "label_stringIdx = StringIndexer(inputCol = \"Category\", outputCol = \"label\")\n",
    "#pipeline\n",
    "pipeline = Pipeline(stages=[regexTokenizer, label_stringIdx, countVectors])\n",
    "# Fit the pipeline to training documents.\n",
    "pipelineFit = pipeline.fit(tweets)\n",
    "dataset = pipelineFit.transform(tweets)\n",
    "dataset.show(5,False)"
   ]
  },
  {
   "cell_type": "code",
   "execution_count": 13,
   "metadata": {},
   "outputs": [
    {
     "name": "stdout",
     "output_type": "stream",
     "text": [
      "Training Dataset Count: 7957\n",
      "Test Dataset Count: 2031\n"
     ]
    }
   ],
   "source": [
    "#Partition Training & Test sets\n",
    "#80% train ,20% test\n",
    "(trainingData, testData) = dataset.randomSplit([0.8, 0.2], seed = 100)\n",
    "print(\"Training Dataset Count: \" + str(trainingData.count()))\n",
    "print(\"Test Dataset Count: \" + str(testData.count()))"
   ]
  },
  {
   "cell_type": "code",
   "execution_count": 14,
   "metadata": {
    "scrolled": true
   },
   "outputs": [
    {
     "name": "stdout",
     "output_type": "stream",
     "text": [
      "+---------------------------------------------------------------------------------------------------------------------------------------------------------------------------------------------------------------------------------------------------------------------------------------------------------------------------------------------------------------------------------------------------------------------------------------------------------------------+--------------------------------------------------------------+-----+----------+\n",
      "|text                                                                                                                                                                                                                                                                                                                                                                                                                                                                 |probability                                                   |label|prediction|\n",
      "+---------------------------------------------------------------------------------------------------------------------------------------------------------------------------------------------------------------------------------------------------------------------------------------------------------------------------------------------------------------------------------------------------------------------------------------------------------------------+--------------------------------------------------------------+-----+----------+\n",
      "|وانا شاهد منظر وقل لنفس يحدث بمه انسانيه الطب ب دين خير اسلام ب لاد شهامه كرم عربعجبي✋ يحدث بمه انسانيه الطب ب دين خير اسلام ب لاد شهامه كرم عربعجب يحدث بمه انسانيه الطب يحدث بمه انسانيه الطب ب دين خير اسلام ب لاد شهامه كرم عربعجبي✋ وانا شاهد منظر وقل لنفس يحدث بمه انسانيه الطب ب دين خير اسلام ب لاد شهامه كرم عربعجب يحدث بمه انسانيه الطب ب دين خير اسلام يحدث بمه انسانيه الطب ب دين خير اسلام ب لاد شهامه كرم عرب ظر وقل لنفس يحدث بمه انسانيه الطب ب دي |[0.9999210491771423,3.95787130806775E-5,3.9372109776858436E-5]|0.0  |0.0       |\n",
      "|احتلال يحكم بالسج موبد غرام قيم الف شيقل اخو نصر اكرم بدو تنفيذ سلسل عمليا… احتلال يحكم بالسج موبد غرام                                                                                                                                                                                                                                                                                                                                                              |[0.9837874814356192,0.006807297992765309,0.009405220571615606]|0.0  |0.0       |\n",
      "|ايه والل 😔 💔 رب يغفر يرحم ويس سيح جنا يغفر لاب يجمع جنا نعيم يارب عالم                                                                                                                                                                                                                                                                                                                                                                                             |[0.9764074409260085,0.012596349190770144,0.010996209883221413]|0.0  |0.0       |\n",
      "|عاجل استقال رييس حكومه لبنانيه سعد حرير تنفس صعداء دواعش تقدم شكر لممل ال سعود لان از… تنفس صعداء دواعش                                                                                                                                                                                                                                                                                                                                                              |[0.9719564169446698,0.01574105429442088,0.01230252876090918]  |0.0  |0.0       |\n",
      "|امريك دلوقت محط نوويه شغال رامج فضاء شغال ابحاث علميه استديوها مصانع احزاب حركا رفضانت بقي شغال ايه                                                                                                                                                                                                                                                                                                                                                                  |[0.9687907628734362,0.013005416123844116,0.018203821002719674]|0.0  |0.0       |\n",
      "+---------------------------------------------------------------------------------------------------------------------------------------------------------------------------------------------------------------------------------------------------------------------------------------------------------------------------------------------------------------------------------------------------------------------------------------------------------------------+--------------------------------------------------------------+-----+----------+\n",
      "only showing top 5 rows\n",
      "\n"
     ]
    }
   ],
   "source": [
    "#Logistic Regression using Count Vector Features\n",
    "lr = LogisticRegression(maxIter=20, regParam=0.3, elasticNetParam=0)\n",
    "lrModel = lr.fit(trainingData)\n",
    "predictions = lrModel.transform(testData)# model will make predictions and score on the test set\n",
    "\n",
    "\n",
    "predictions.filter(predictions['prediction'] == 0) \\\n",
    "    .select(\"text\",\"probability\",\"label\",\"prediction\") \\\n",
    "    .orderBy(\"probability\", ascending=False) \\\n",
    "    .show(5,False)"
   ]
  },
  {
   "cell_type": "code",
   "execution_count": 15,
   "metadata": {},
   "outputs": [
    {
     "name": "stdout",
     "output_type": "stream",
     "text": [
      "Model Accuracy:  0.7026545276911003\n"
     ]
    }
   ],
   "source": [
    "# Show the accuracy \n",
    "from pyspark.ml.evaluation import MulticlassClassificationEvaluator\n",
    "evaluator = MulticlassClassificationEvaluator(labelCol=\"label\", predictionCol=\"prediction\",metricName=\"f1\")\n",
    "accuracy = evaluator.evaluate(predictions)\n",
    "print(\"Model Accuracy: \", accuracy)"
   ]
  },
  {
   "cell_type": "code",
   "execution_count": 16,
   "metadata": {},
   "outputs": [
    {
     "name": "stdout",
     "output_type": "stream",
     "text": [
      "the label from our dataset\n",
      "+-----+------------+\n",
      "|label|count(label)|\n",
      "+-----+------------+\n",
      "|  0.0|         940|\n",
      "|  1.0|         639|\n",
      "|  2.0|         452|\n",
      "+-----+------------+\n",
      "\n",
      "the label from test\n",
      "+----------+-----------------+\n",
      "|prediction|count(prediction)|\n",
      "+----------+-----------------+\n",
      "|       0.0|             1157|\n",
      "|       1.0|              600|\n",
      "|       2.0|              274|\n",
      "+----------+-----------------+\n",
      "\n",
      "Model accuracy: 71.147%\n"
     ]
    }
   ],
   "source": [
    "pl = predictions.select(\"label\", \"prediction\")\n",
    "\n",
    "print(\"the label from our dataset\") \n",
    "pl.groupby('label').agg({'label': 'count'}).show()\n",
    "\n",
    "print(\"the label from test\") \n",
    "pl.groupby('prediction').agg({'prediction': 'count'}).show()\n",
    "\n",
    "pl.filter(pl.label == pl.prediction).count() / pl.count()\n",
    "acc = pl.filter(pl.label == pl.prediction).count() / pl.count()\n",
    "print(\"Model accuracy: %.3f%%\" % (acc * 100)) "
   ]
  },
  {
   "cell_type": "code",
   "execution_count": 17,
   "metadata": {},
   "outputs": [
    {
     "name": "stdout",
     "output_type": "stream",
     "text": [
      "+---------------------------------------------------------------------------------------------------------------------------------------------------------------------------------------------------------------------------------------------------------------------------------------------------------------------------------------------------------------------------------------------------------------------------------------------------------------------+--------+--------------------------------------------------------------+-----+----------+\n",
      "|text                                                                                                                                                                                                                                                                                                                                                                                                                                                                 |Category|probability                                                   |label|prediction|\n",
      "+---------------------------------------------------------------------------------------------------------------------------------------------------------------------------------------------------------------------------------------------------------------------------------------------------------------------------------------------------------------------------------------------------------------------------------------------------------------------+--------+--------------------------------------------------------------+-----+----------+\n",
      "|الله يحم ينصر ينصر فيك انت اصه والل طلع منك سعد عشتم عاش بنان عاش مملكه سعوديه عشتم عاش بنان عاش مملكه سعوديه نص تغريده الله يحم ينصر ينصر فيك انت اصه والل طلع منك سعد عشتم عاش بنان عاش مملكه سعوديه الله يحم ينصر ينصر فيك انت اصه والل طلع منك سعد عشتم عاش بنان عاش مملكه سعود انت اصه والل طلع منك سعد عشتم عاش بنان عاش مملكه سعوديه الله يحم ينصر ينصر فيك انت اصه والل طلع منك سعد عشتم عاش بنان عاش مملكه سعوديه                                           |POS     |[0.997965257704871,0.001483654632293707,5.510876628353509E-4] |1.0  |0.0       |\n",
      "|سعوديه صفيح هيب ساخ متفجر قواس اواد داخل خارج تدفع ثمن ارهاب ايد وكل يحصل هو مقدمه والات اعظمالسعود صفيح هيب ساخ                                                                                                                                                                                                                                                                                                                                                     |NEG     |[0.9904186109903172,0.005773823735438283,0.003807565274244601]|0.0  |0.0       |\n",
      "|حكومه لبنانيه معن بالرد ثامر سبه هدد بنان تهديد مباشر علني اعاد بنان اتون حرب اهليه سابقه عاقل يفهم                                                                                                                                                                                                                                                                                                                                                                  |NEG     |[0.9839370769928797,0.008650751177544885,0.0074121718295755]  |0.0  |0.0       |\n",
      "|حمدالله حصل مركز ثالث مركز اول سباق واد رم دول ارد مساف 42 كيلو متر  حصل اخو يصل… سباق واد رم دول                                                                                                                                                                                                                                                                                                                                                                    |POS     |[0.9826775886577622,0.01322553843379004,0.004096872908447653] |1.0  |0.0       |\n",
      "|وانا شاهد منظر وقل لنفس يحدث بمه انسانيه الطب ب دين خير اسلام ب لاد شهامه كرم عربعجبي✋ يحدث بمه انسانيه الطب ب دين خير اسلام ب لاد شهامه كرم عربعجب يحدث بمه انسانيه الطب يحدث بمه انسانيه الطب ب دين خير اسلام ب لاد شهامه كرم عربعجبي✋ وانا شاهد منظر وقل لنفس يحدث بمه انسانيه الطب ب دين خير اسلام ب لاد شهامه كرم عربعجب يحدث بمه انسانيه الطب ب دين خير اسلام يحدث بمه انسانيه الطب ب دين خير اسلام ب لاد شهامه كرم عرب ظر وقل لنفس يحدث بمه انسانيه الطب ب دي |NEG     |[0.9750859050797639,9.813348930577917E-5,0.024815961430930122]|0.0  |0.0       |\n",
      "+---------------------------------------------------------------------------------------------------------------------------------------------------------------------------------------------------------------------------------------------------------------------------------------------------------------------------------------------------------------------------------------------------------------------------------------------------------------------+--------+--------------------------------------------------------------+-----+----------+\n",
      "only showing top 5 rows\n",
      "\n"
     ]
    }
   ],
   "source": [
    "#Logistic Regression using TF-IDF Features\n",
    "from pyspark.ml.feature import HashingTF, IDF\n",
    "hashingTF = HashingTF(inputCol=\"words\", outputCol=\"rawFeatures\", numFeatures=10000)\n",
    "idf = IDF(inputCol=\"rawFeatures\", outputCol=\"features\", minDocFreq=5) #minDocFreq: remove sparse terms\n",
    "pipeline = Pipeline(stages=[regexTokenizer, hashingTF, idf, label_stringIdx])\n",
    "pipelineFit = pipeline.fit(tweets)\n",
    "dataset = pipelineFit.transform(tweets)\n",
    "(trainingData, testData) = dataset.randomSplit([0.8, 0.2], seed = 100)\n",
    "lr = LogisticRegression(maxIter=20, regParam=0.3, elasticNetParam=0)\n",
    "lrModel = lr.fit(trainingData)\n",
    "predictions = lrModel.transform(testData)\n",
    "predictions.filter(predictions['prediction'] == 0) \\\n",
    "    .select(\"text\",\"Category\",\"probability\",\"label\",\"prediction\") \\\n",
    "    .orderBy(\"probability\", ascending=False) \\\n",
    "    .show(5,False)\n"
   ]
  },
  {
   "cell_type": "code",
   "execution_count": 18,
   "metadata": {},
   "outputs": [
    {
     "name": "stdout",
     "output_type": "stream",
     "text": [
      "Model Accuracy:  0.6729132795659876\n"
     ]
    }
   ],
   "source": [
    "from pyspark.ml.evaluation import MulticlassClassificationEvaluator\n",
    "evaluator = MulticlassClassificationEvaluator(predictionCol=\"prediction\",metricName=\"f1\")\n",
    "accuracy = evaluator.evaluate(predictions)\n",
    "print (\"Model Accuracy: \", accuracy)"
   ]
  },
  {
   "cell_type": "code",
   "execution_count": 19,
   "metadata": {},
   "outputs": [
    {
     "name": "stdout",
     "output_type": "stream",
     "text": [
      "the label from our dataset\n",
      "+-----+------------+\n",
      "|label|count(label)|\n",
      "+-----+------------+\n",
      "|  0.0|         940|\n",
      "|  1.0|         639|\n",
      "|  2.0|         452|\n",
      "+-----+------------+\n",
      "\n",
      "the label from test\n",
      "+----------+-----------------+\n",
      "|prediction|count(prediction)|\n",
      "+----------+-----------------+\n",
      "|       0.0|             1151|\n",
      "|       1.0|              597|\n",
      "|       2.0|              283|\n",
      "+----------+-----------------+\n",
      "\n",
      "Model accuracy: 68.390%\n"
     ]
    }
   ],
   "source": [
    "pl = predictions.select(\"label\", \"prediction\")\n",
    "\n",
    "print(\"the label from our dataset\") \n",
    "pl.groupby('label').agg({'label': 'count'}).show()\n",
    "\n",
    "print(\"the label from test\") \n",
    "pl.groupby('prediction').agg({'prediction': 'count'}).show()\n",
    "\n",
    "pl.filter(pl.label == pl.prediction).count() / pl.count()\n",
    "acc = pl.filter(pl.label == pl.prediction).count() / pl.count()\n",
    "print(\"Model accuracy: %.3f%%\" % (acc * 100)) "
   ]
  },
  {
   "cell_type": "code",
   "execution_count": 20,
   "metadata": {},
   "outputs": [],
   "source": [
    "#Cross-Validation\n",
    "pipeline = Pipeline(stages=[regexTokenizer,countVectors, label_stringIdx])\n",
    "pipelineFit = pipeline.fit(tweets)\n",
    "dataset = pipelineFit.transform(tweets)\n",
    "(trainingData, testData) = dataset.randomSplit([0.8, 0.2], seed = 100)\n",
    "lr = LogisticRegression(maxIter=20, regParam=0.3, elasticNetParam=0)\n",
    "from pyspark.ml.tuning import ParamGridBuilder, CrossValidator\n",
    "# Create ParamGrid for Cross Validation\n",
    "paramGrid = (ParamGridBuilder()\n",
    "             .addGrid(lr.regParam, [0.1, 0.3, 0.5]) # regularization parameter\n",
    "             .addGrid(lr.elasticNetParam, [0.0, 0.1, 0.2]) # Elastic Net Parameter (Ridge = 0)\n",
    "             .build())\n",
    "# Create 5-fold CrossValidator\n",
    "cv = CrossValidator(estimator=lr, \\\n",
    "                    estimatorParamMaps=paramGrid, \\\n",
    "                    evaluator=evaluator, \\\n",
    "                    numFolds=5)\n",
    "cvModel = cv.fit(trainingData)\n",
    "\n",
    "predictions = cvModel.transform(testData)"
   ]
  },
  {
   "cell_type": "code",
   "execution_count": 21,
   "metadata": {},
   "outputs": [
    {
     "name": "stdout",
     "output_type": "stream",
     "text": [
      "+---------------------------------------------------------------------------------------------------------------------------------------------------------------------------------------------------------------------------------------------------------------------------------------------------------------------------------------------------------------------------------------------------------------------------------------------------------------------+--------+---------------------------------------------------------------+-----+----------+\n",
      "|text                                                                                                                                                                                                                                                                                                                                                                                                                                                                 |Category|probability                                                    |label|prediction|\n",
      "+---------------------------------------------------------------------------------------------------------------------------------------------------------------------------------------------------------------------------------------------------------------------------------------------------------------------------------------------------------------------------------------------------------------------------------------------------------------------+--------+---------------------------------------------------------------+-----+----------+\n",
      "|وانا شاهد منظر وقل لنفس يحدث بمه انسانيه الطب ب دين خير اسلام ب لاد شهامه كرم عربعجبي✋ يحدث بمه انسانيه الطب ب دين خير اسلام ب لاد شهامه كرم عربعجب يحدث بمه انسانيه الطب يحدث بمه انسانيه الطب ب دين خير اسلام ب لاد شهامه كرم عربعجبي✋ وانا شاهد منظر وقل لنفس يحدث بمه انسانيه الطب ب دين خير اسلام ب لاد شهامه كرم عربعجب يحدث بمه انسانيه الطب ب دين خير اسلام يحدث بمه انسانيه الطب ب دين خير اسلام ب لاد شهامه كرم عرب ظر وقل لنفس يحدث بمه انسانيه الطب ب دي |NEG     |[0.9999988475590554,8.102816688367889E-7,3.421592759446772E-7] |0.0  |0.0       |\n",
      "|احتلال يحكم بالسج موبد غرام قيم الف شيقل اخو نصر اكرم بدو تنفيذ سلسل عمليا… احتلال يحكم بالسج موبد غرام                                                                                                                                                                                                                                                                                                                                                              |NEG     |[0.9988106975466617,5.286095568034762E-4,6.606928965347219E-4] |0.0  |0.0       |\n",
      "|اكر واحد يحچ ع واحد اعرف گدام عند جراه انو اگل اسك وانجب انا نوعيه ال ينقل حچ حيث اروح للث… واحد يحچ ع واحد اعرف گدام عند جراه اكر واحد يحچ ع واحد اعرف گدام اكر واحد يحچ ع واحد اعرف گدام عند جراه انو اگل اسك وانجب انا نوعيه ال ينقل حچ حيث اروح اكر واحد يحچ ع واحد اعرف گدام عند جراه انو اگل اسك وانجب انا نوعيه ال ينقل حچ حيث اروح للث…                                                                                                                      |NEG     |[0.9949999628129137,0.0015839266028577085,0.003416110584228445]|0.0  |0.0       |\n",
      "|ايه والل 😔 💔 رب يغفر يرحم ويس سيح جنا يغفر لاب يجمع جنا نعيم يارب عالم                                                                                                                                                                                                                                                                                                                                                                                             |NEG     |[0.9948971207755846,0.0028872629753925187,0.002215616249023]   |0.0  |0.0       |\n",
      "|امريك دلوقت محط نوويه شغال رامج فضاء شغال ابحاث علميه استديوها مصانع احزاب حركا رفضانت بقي شغال ايه                                                                                                                                                                                                                                                                                                                                                                  |NEG     |[0.9925834000904248,0.002792508860418991,0.004624091049156041] |0.0  |0.0       |\n",
      "+---------------------------------------------------------------------------------------------------------------------------------------------------------------------------------------------------------------------------------------------------------------------------------------------------------------------------------------------------------------------------------------------------------------------------------------------------------------------+--------+---------------------------------------------------------------+-----+----------+\n",
      "only showing top 5 rows\n",
      "\n"
     ]
    }
   ],
   "source": [
    "predictions.filter(predictions['prediction'] == 0) \\\n",
    "    .select(\"text\",\"Category\",\"probability\",\"label\",\"prediction\") \\\n",
    "    .orderBy(\"probability\", ascending=False) \\\n",
    "    .show(5,False)"
   ]
  },
  {
   "cell_type": "code",
   "execution_count": 22,
   "metadata": {},
   "outputs": [
    {
     "name": "stdout",
     "output_type": "stream",
     "text": [
      "Model Accuracy:  0.7104643740264259\n"
     ]
    }
   ],
   "source": [
    "from pyspark.ml.evaluation import MulticlassClassificationEvaluator\n",
    "evaluator = MulticlassClassificationEvaluator(predictionCol=\"prediction\")\n",
    "accuracy = evaluator.evaluate(predictions)\n",
    "print (\"Model Accuracy: \", accuracy)"
   ]
  },
  {
   "cell_type": "code",
   "execution_count": 23,
   "metadata": {},
   "outputs": [
    {
     "name": "stdout",
     "output_type": "stream",
     "text": [
      "the label from our dataset\n",
      "+-----+------------+\n",
      "|label|count(label)|\n",
      "+-----+------------+\n",
      "|  0.0|         940|\n",
      "|  1.0|         639|\n",
      "|  2.0|         452|\n",
      "+-----+------------+\n",
      "\n",
      "the label from test\n",
      "+----------+-----------------+\n",
      "|prediction|count(prediction)|\n",
      "+----------+-----------------+\n",
      "|       0.0|             1081|\n",
      "|       1.0|              616|\n",
      "|       2.0|              334|\n",
      "+----------+-----------------+\n",
      "\n",
      "Model accuracy: 71.590%\n"
     ]
    }
   ],
   "source": [
    "pl = predictions.select(\"label\", \"prediction\")\n",
    "\n",
    "print(\"the label from our dataset\") \n",
    "pl.groupby('label').agg({'label': 'count'}).show()\n",
    "\n",
    "print(\"the label from test\") \n",
    "pl.groupby('prediction').agg({'prediction': 'count'}).show()\n",
    "\n",
    "pl.filter(pl.label == pl.prediction).count() / pl.count()\n",
    "acc = pl.filter(pl.label == pl.prediction).count() / pl.count()\n",
    "print(\"Model accuracy: %.3f%%\" % (acc * 100)) "
   ]
  }
 ],
 "metadata": {
  "kernelspec": {
   "display_name": "Python 3",
   "language": "python",
   "name": "python3"
  },
  "language_info": {
   "codemirror_mode": {
    "name": "ipython",
    "version": 3
   },
   "file_extension": ".py",
   "mimetype": "text/x-python",
   "name": "python",
   "nbconvert_exporter": "python",
   "pygments_lexer": "ipython3",
   "version": "3.7.1"
  }
 },
 "nbformat": 4,
 "nbformat_minor": 2
}
