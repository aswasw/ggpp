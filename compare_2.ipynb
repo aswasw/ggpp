{
 "cells": [
  {
   "cell_type": "code",
   "execution_count": 4,
   "metadata": {},
   "outputs": [],
   "source": [
    "from pyspark.ml import PipelineModel\n",
    "model2 = PipelineModel.load(\"vvvyes3\")"
   ]
  },
  {
   "cell_type": "code",
   "execution_count": 3,
   "metadata": {},
   "outputs": [],
   "source": [
    "x = \"2019\"\n",
    "y = \"2018\"\n",
    "z = \"2017\"\n",
    "with open('yearJson.json', 'r') as f_input:\n",
    "    for line in f_input:\n",
    "\n",
    "        st = line\n",
    "        searchStr = 'text'\n",
    "        searchStr2 = 'text\":'\n",
    "        created_at = st[:st.find(searchStr)]  # From created_at filed until Text\n",
    "        if x in created_at:\n",
    "            \n",
    "            text = st[st.find(searchStr2) + len(searchStr2):] \n",
    "            f_output = open('20191_1clean.txt', 'a')\n",
    "            f_output.write(created_at + searchStr2 + text)\n",
    "\n",
    "        elif y in created_at:\n",
    "            text = st[st.find(searchStr2) + len(searchStr2):]  # From text filed until the end\n",
    "            f_output = open('20181_1clean.txt' , 'a')\n",
    "            f_output.write(created_at + searchStr2 + text)\n",
    "\n",
    "\n",
    "        elif z in created_at:\n",
    "            text = st[st.find(searchStr2) + len(searchStr2):]  # From text filed until the end\n",
    "            f_output = open('20171_1clean.txt', 'a')\n",
    "            f_output.write(created_at + searchStr2 + text)\n",
    "\n",
    "\n",
    "f_input.close()"
   ]
  },
  {
   "cell_type": "code",
   "execution_count": 97,
   "metadata": {},
   "outputs": [],
   "source": [
    "from pyspark.sql import SparkSession\n",
    "jobDir = '20191_1clean.txt' # new data without label\n",
    "tweets = spark.read.json([jobDir])\n",
    "tweets.count() \n",
    "\n",
    "tweets = tweets.select(\"text\")\n",
    "df= model2.transform(tweets)"
   ]
  },
  {
   "cell_type": "code",
   "execution_count": 98,
   "metadata": {},
   "outputs": [],
   "source": [
    "from pyspark.sql import SparkSession\n",
    "jobDir = '20181_1clean.txt' # new data without label\n",
    "tweets = spark.read.json([jobDir])\n",
    "tweets.count() \n",
    "\n",
    "tweets = tweets.select(\"text\")\n",
    "df2 = model2.transform(tweets)"
   ]
  },
  {
   "cell_type": "code",
   "execution_count": 99,
   "metadata": {},
   "outputs": [],
   "source": [
    "from pyspark.sql import SparkSession\n",
    "jobDir = '20171_1clean.txt' # new data without label\n",
    "tweets = spark.read.json([jobDir])\n",
    "tweets.count() \n",
    "\n",
    "tweets = tweets.select(\"text\")\n",
    "df3 = model2.transform(tweets)"
   ]
  },
  {
   "cell_type": "code",
   "execution_count": 100,
   "metadata": {},
   "outputs": [],
   "source": [
    "import matplotlib.pyplot as plt \n",
    "import pandas as pd\n",
    "from collections import Counter\n",
    "\n",
    "x1=df.filter(df['prediction'] == 0).count()\n",
    "y1=df.filter(df['prediction'] == 1).count()\n",
    "z1=df.filter(df['prediction'] == 2).count()"
   ]
  },
  {
   "cell_type": "code",
   "execution_count": 101,
   "metadata": {},
   "outputs": [],
   "source": [
    "x2=df2.filter(df2['prediction'] == 0).count()\n",
    "y2=df2.filter(df2['prediction'] == 1).count()\n",
    "z2=df2.filter(df2['prediction'] == 2).count()"
   ]
  },
  {
   "cell_type": "code",
   "execution_count": 102,
   "metadata": {},
   "outputs": [],
   "source": [
    "x3=df3.filter(df3['prediction'] == 0).count()\n",
    "y3=df3.filter(df3['prediction'] == 1).count()\n",
    "z3=df3.filter(df3['prediction'] == 2).count()"
   ]
  },
  {
   "cell_type": "code",
   "execution_count": 103,
   "metadata": {},
   "outputs": [
    {
     "data": {
      "image/png": "[encoded data removed]",
      "text/plain": [
       "<Figure size 432x288 with 1 Axes>"
      ]
     },
     "metadata": {
      "needs_background": "light"
     },
     "output_type": "display_data"
    },
    {
     "data": {
      "text/plain": [
       "<__main__.js at 0x11cd87780>"
      ]
     },
     "execution_count": 103,
     "metadata": {},
     "output_type": "execute_result"
    }
   ],
   "source": [
    "import json\n",
    "#from pprint import pprint\n",
    "import numpy as np\n",
    "import matplotlib.pyplot as plt\n",
    "\n",
    "class js:\n",
    "    def __init__(self):\n",
    "        self.bar1=[]\n",
    "        self.bar2=[]\n",
    "        self.bar3=[]\n",
    "        \n",
    "        self.read()\n",
    "        \n",
    "\n",
    "   \n",
    "    def read(self):\n",
    "        counter1 = 0\n",
    "        counter2 = 0\n",
    "        counter3 = 0\n",
    "        \n",
    "        counter1 = x1\n",
    "        counter2 = y1\n",
    "        counter3 = z1\n",
    "        self.bar1.append(counter1)\n",
    "        self.bar2.append(counter2)\n",
    "        self.bar3.append(counter3)\n",
    "        counter1=0\n",
    "        counter2=0\n",
    "        counter3=0\n",
    "            \n",
    "\n",
    "        counter1 = x2\n",
    "        counter2 = y2\n",
    "        counter3 = z2\n",
    "        self.bar1.append(counter1)\n",
    "        self.bar2.append(counter2)\n",
    "        self.bar3.append(counter3)\n",
    "        counter1=0\n",
    "        counter2=0\n",
    "        counter3=0\n",
    "            \n",
    "        counter1 = x3\n",
    "        counter2 = y3\n",
    "        counter3 = z3\n",
    "        self.bar1.append(counter1)\n",
    "        self.bar2.append(counter2)\n",
    "        self.bar3.append(counter3)\n",
    "        counter1=0\n",
    "        counter2=0\n",
    "        counter3=0\n",
    "\n",
    "        self.draw()\n",
    "\n",
    "    def draw(self):\n",
    "        # width of the bars\n",
    "        barWidth = 0.25\n",
    "        bars1=self.bar1\n",
    "        bars2=self.bar2\n",
    "        bars3=self.bar3\n",
    "       \n",
    "\n",
    "        # The x position of bars\n",
    "        r1 = np.arange(len(bars1))\n",
    "        r2 = [x + barWidth for x in r1]\n",
    "        r3 = [x + barWidth for x in r2]\n",
    "        \n",
    "           \n",
    "        # Create Positive bars\n",
    "        plt.bar(r1, bars1, width = barWidth, color = '#0489B1', label='Positive')\n",
    "        # Create Neutral bars\n",
    "        plt.bar(r3, bars3, width = barWidth, color = '#A4A4A4', label='Neutral')\n",
    "        # Create Negative bars\n",
    "        plt.bar(r2, bars2, width=barWidth, color='#0B3861', label='Negative')\n",
    "        \n",
    "        plt.xticks([r + barWidth for r in range(len(bars1))], ['2019', '2018', '2017'])\n",
    "        plt.ylabel('Number of Tweets')\n",
    "        plt.legend()\n",
    "\n",
    "        # Show graphic\n",
    "        plt.show()\n",
    "            \n",
    "js()\n",
    "\n",
    "\n"
   ]
  }
 ],
 "metadata": {
  "kernelspec": {
   "display_name": "Python 3",
   "language": "python",
   "name": "python3"
  },
  "language_info": {
   "codemirror_mode": {
    "name": "ipython",
    "version": 3
   },
   "file_extension": ".py",
   "mimetype": "text/x-python",
   "name": "python",
   "nbconvert_exporter": "python",
   "pygments_lexer": "ipython3",
   "version": "3.7.1"
  }
 },
 "nbformat": 4,
 "nbformat_minor": 2
}
