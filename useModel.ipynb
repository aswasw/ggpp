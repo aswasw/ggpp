{
 "cells": [
  {
   "cell_type": "code",
   "execution_count": 18,
   "metadata": {},
   "outputs": [],
   "source": [
    "from pyspark.ml import PipelineModel\n",
    "model2 = PipelineModel.load(\"vvvyes3\") #load the saved model # use the model to classify the new data "
   ]
  },
  {
   "cell_type": "code",
   "execution_count": 19,
   "metadata": {},
   "outputs": [
    {
     "data": {
      "text/plain": [
       "26"
      ]
     },
     "execution_count": 19,
     "metadata": {},
     "output_type": "execute_result"
    }
   ],
   "source": [
    "#Data Ingestion and Extraction\n",
    "from pyspark.sql import SparkSession\n",
    "jobDir = \"tweetsJson.json\" # new data without label\n",
    "tweets = spark.read.json([jobDir])\n",
    "tweets.count() "
   ]
  },
  {
   "cell_type": "code",
   "execution_count": 20,
   "metadata": {},
   "outputs": [
    {
     "name": "stdout",
     "output_type": "stream",
     "text": [
      "root\n",
      " |-- text: string (nullable = true)\n",
      "\n"
     ]
    }
   ],
   "source": [
    "tweets = tweets.select(\"text\")\n",
    "tweets.printSchema()"
   ]
  },
  {
   "cell_type": "code",
   "execution_count": 21,
   "metadata": {},
   "outputs": [],
   "source": [
    "df = model2.transform(tweets)# use the model to classify the new data , # get the predictions of new data"
   ]
  },
  {
   "cell_type": "code",
   "execution_count": 22,
   "metadata": {
    "scrolled": false
   },
   "outputs": [
    {
     "name": "stdout",
     "output_type": "stream",
     "text": [
      "+-------------------------------------------------------------------------------------+----------+-------------------------------------------------------------------------------------------------------+\n",
      "|text                                                                                 |prediction|words                                                                                                  |\n",
      "+-------------------------------------------------------------------------------------+----------+-------------------------------------------------------------------------------------------------------+\n",
      "|كل يوم تاكد ان جود ام ف حيات اهم جودي شخصي ❤️                                        |1.0       |[كل, يوم, تاكد, ان, جود, ام, ف, حيات, اهم, جودي, شخصي, ❤️]                                             |\n",
      "|يع انتي ام مفتكرتيش انا ابقي ابن مين -اغ اتوبيس 2019                                 |1.0       |[يع, انتي, ام, مفتكرتيش, انا, ابقي, ابن, مين, -اغ, اتوبيس, 2019]                                       |\n",
      "| انا ام مات دهس والج يتمتع بحي هانء ماتوقف يوم واحد حرق قلوب الله يحرق قلب 💔😭      |0.0       |[انا, ام, مات, دهس, والج, يتمتع, بحي, هانء, ماتوقف, يوم, واحد, حرق, قلوب, الله, يحرق, قلب, 💔😭]       |\n",
      "|ام داز مقطع تقول حتا قرد رايح مسجد يسمع خطبه و نايم بيت                              |0.0       |[ام, داز, مقطع, تقول, حتا, قرد, رايح, مسجد, يسمع, خطبه, و, نايم, بيت]                                  |\n",
      "|ام مصور زي زقت طالع صوره 😭😭                                                        |0.0       |[ام, مصور, زي, زقت, طالع, صوره, 😭😭]                                                                  |\n",
      "|ام تصنع قلب بيو امل تصلح افسد حيا ترمرم خراب روح تسد ثقب جرح تمح الم صدر  تسعى…      |2.0       |[ام, تصنع, قلب, بيو, امل, تصلح, افسد, حيا, ترمرم, خراب, روح, تسد, ثقب, جرح, تمح, الم, صدر, تسعى…]      |\n",
      "| ام                                                                                  |0.0       |[ام]                                                                                                   |\n",
      "| ام ♥️                                                                               |2.0       |[ام, ♥️]                                                                                               |\n",
      "|الل يرحم                                                                             |0.0       |[الل, يرحم]                                                                                            |\n",
      "|الل يشف يخل                                                                          |0.0       |[الل, يشف, يخل]                                                                                        |\n",
      "| انس يعدل قرب منه تلذذ حديث ريح زاك كريم جود  دعاء صاف انه حياه خ…                   |1.0       |[انس, يعدل, قرب, منه, تلذذ, حديث, ريح, زاك, كريم, جود, دعاء, صاف, انه, حياه, خ…]                       |\n",
      "|برحم ارحم راحم ارحم ام نور واغفر وسع قبر انس وحش واجمع جنت وارحم موتي مسلم يارب عالم |2.0       |[برحم, ارحم, راحم, ارحم, ام, نور, واغفر, وسع, قبر, انس, وحش, واجمع, جنت, وارحم, موتي, مسلم, يارب, عالم]|\n",
      "|الل اجعل ام واب سبع الف يدخل جنه بلا حساب سابق عذاب❤️                                |0.0       |[الل, اجعل, ام, واب, سبع, الف, يدخل, جنه, بلا, حساب, سابق, عذاب❤️]                                     |\n",
      "|مدر جلس بطن ام 9 شهور دون جوال ونت                                                   |0.0       |[مدر, جلس, بطن, ام, 9, شهور, دون, جوال, ونت]                                                           |\n",
      "|ستبقي ام دايم شيء مختلف جميع❤️                                                       |2.0       |[ستبقي, ام, دايم, شيء, مختلف, جميع❤️]                                                                  |\n",
      "|ام نور بقاء لله ومو قدر 💔💔                                                         |1.0       |[ام, نور, بقاء, لله, ومو, قدر, 💔💔]                                                                   |\n",
      "|رب اوص ب ام خير عاف عمر طويلا♥️                                                      |1.0       |[رب, اوص, ب, ام, خير, عاف, عمر, طويلا♥️]                                                               |\n",
      "|ستبقي ام دايم شيء مختلف جميع💜                                                       |2.0       |[ستبقي, ام, دايم, شيء, مختلف, جميع💜]                                                                  |\n",
      "|الل ام دايم ابدا💙                                                                   |0.0       |[الل, ام, دايم, ابدا💙]                                                                                |\n",
      "|خالات نعيم مقتبس قلب ام 💗                                                           |0.0       |[خالات, نعيم, مقتبس, قلب, ام, 💗]                                                                      |\n",
      "+-------------------------------------------------------------------------------------+----------+-------------------------------------------------------------------------------------------------------+\n",
      "only showing top 20 rows\n",
      "\n"
     ]
    }
   ],
   "source": [
    "df.select(\"text\",\"prediction\",\"words\").show(20,False)"
   ]
  },
  {
   "cell_type": "code",
   "execution_count": 23,
   "metadata": {},
   "outputs": [],
   "source": [
    "import matplotlib.pyplot as plt # use matplotlib to draw the classification result in pichart\n",
    "import pandas as pd"
   ]
  },
  {
   "cell_type": "code",
   "execution_count": 24,
   "metadata": {},
   "outputs": [],
   "source": [
    "x=df.filter(df['prediction'] == 0).count() #count the prediction 0\n",
    "y=df.filter(df['prediction'] == 1).count() #count the prediction 1\n",
    "z=df.filter(df['prediction'] == 2).count() #count the prediction 2"
   ]
  },
  {
   "cell_type": "code",
   "execution_count": 25,
   "metadata": {},
   "outputs": [
    {
     "data": {
      "image/png": "[encoded data removed]",
      "text/plain": [
       "<Figure size 432x288 with 1 Axes>"
      ]
     },
     "metadata": {},
     "output_type": "display_data"
    }
   ],
   "source": [
    "labels = 'Positive', 'Negative', 'Neutral' #labels apper on the pichart\n",
    "sizes = [x, y, z] # count it before \n",
    "colors=['#0489B1','#A4A4A4','#0B3861']\n",
    "Keyword = \"أمي\"\n",
    "\n",
    "## use matplotlib to plot the chart\n",
    "plt.pie(sizes, labels = labels, colors = colors, shadow = True, startangle = 90)\n",
    "plt.title(\"Sentiment of 20 Tweets about \"+Keyword)\n",
    "plt.show()"
   ]
  },
  {
   "cell_type": "code",
   "execution_count": null,
   "metadata": {},
   "outputs": [],
   "source": []
  }
 ],
 "metadata": {
  "kernelspec": {
   "display_name": "Python 3",
   "language": "python",
   "name": "python3"
  },
  "language_info": {
   "codemirror_mode": {
    "name": "ipython",
    "version": 3
   },
   "file_extension": ".py",
   "mimetype": "text/x-python",
   "name": "python",
   "nbconvert_exporter": "python",
   "pygments_lexer": "ipython3",
   "version": "3.7.1"
  }
 },
 "nbformat": 4,
 "nbformat_minor": 2
}
