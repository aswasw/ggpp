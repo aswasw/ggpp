{
 "cells": [
  {
   "cell_type": "code",
   "execution_count": 1,
   "metadata": {},
   "outputs": [
    {
     "data": {
      "text/plain": [
       "7992"
      ]
     },
     "execution_count": 1,
     "metadata": {},
     "output_type": "execute_result"
    }
   ],
   "source": [
    "#Data Ingestion and Extraction\n",
    "from pyspark.sql import SparkSession\n",
    "jobDir = \"tweets1.json\"\n",
    "tweets = spark.read.json([jobDir])\n",
    "tweets.count() "
   ]
  },
  {
   "cell_type": "code",
   "execution_count": 2,
   "metadata": {},
   "outputs": [
    {
     "name": "stdout",
     "output_type": "stream",
     "text": [
      "root\n",
      " |-- text: string (nullable = true)\n",
      " |-- Category: string (nullable = true)\n",
      "\n"
     ]
    }
   ],
   "source": [
    "tweets = tweets.select(\"text\", \\\n",
    "                     \"Category\" )\n",
    "\n",
    "tweets.printSchema()"
   ]
  },
  {
   "cell_type": "code",
   "execution_count": null,
   "metadata": {},
   "outputs": [],
   "source": []
  },
  {
   "cell_type": "code",
   "execution_count": 3,
   "metadata": {},
   "outputs": [],
   "source": [
    "#Model Pipeline\n",
    "from pyspark.ml.feature import RegexTokenizer, StopWordsRemover, CountVectorizer\n",
    "from pyspark.ml.classification import LogisticRegression\n",
    "# regular expression tokenizer\n",
    "regexTokenizer = RegexTokenizer(inputCol=\"text\", outputCol=\"words\")\n",
    "\n",
    "countVectors = CountVectorizer(inputCol=\"words\", outputCol=\"features\")\n",
    "\n"
   ]
  },
  {
   "cell_type": "code",
   "execution_count": 4,
   "metadata": {},
   "outputs": [
    {
     "name": "stdout",
     "output_type": "stream",
     "text": [
      "+-------------------------------------------------+--------+--------------------------------------------------+--------------------------------------------------+-----+\n",
      "|                                             text|Category|                                             words|                                          features|label|\n",
      "+-------------------------------------------------+--------+--------------------------------------------------+--------------------------------------------------+-----+\n",
      "|               والل عجب عشان كتاب انجليز صعب كلم |     POS|         [والل, عجب, عشان, كتاب, انجليز, صعب, كلم]|(17072,[68,109,147,351,644,1456,6074],[1.0,1.0,...|  2.0|\n",
      "|               انه مفيد جدان انا اتعلم كثير اشيء |     POS|         [انه, مفيد, جدان, انا, اتعلم, كثير, اشيء]|(17072,[19,22,126,3800,9802,13014,16094],[1.0,1...|  2.0|\n",
      "|           انه رنامج رايع يترجم كلم قطع باقص سرع |     POS|    [انه, رنامج, رايع, يترجم, كلم, قطع, باقص, سرع]|(17072,[19,147,242,251,1087,2266,3234,14862],[1...|  2.0|\n",
      "|            رنامج جميل جدا يترجم كلم جمل فعل روع |     POS|     [رنامج, جميل, جدا, يترجم, كلم, جمل, فعل, روع]|(17072,[82,127,147,166,242,1341,3234,3282],[1.0...|  2.0|\n",
      "|قمه روعه الف شكر تقدير مجهود نافع جدا تحي احترام |     POS|[قمه, روعه, الف, شكر, تقدير, مجهود, نافع, جدا, ...|(17072,[82,97,103,398,635,1202,2404,4552,6402,7...|  2.0|\n",
      "|                         جميل اشخاص ايجد انجلزيه |     POS|                      [جميل, اشخاص, ايجد, انجلزيه]|   (17072,[166,881,14206,16489],[1.0,1.0,1.0,1.0])|  2.0|\n",
      "|                             عاش ايد برنامج رايع |     POS|                          [عاش, ايد, برنامج, رايع]|       (17072,[251,332,459,756],[1.0,1.0,1.0,1.0])|  2.0|\n",
      "|                         برنامج حلوو وانصح تحميل |     POS|                      [برنامج, حلوو, وانصح, تحميل]|  (17072,[459,3115,11912,15240],[1.0,1.0,1.0,1.0])|  2.0|\n",
      "|                        حلو والل صرت احل واجب ال |     POS|                   [حلو, والل, صرت, احل, واجب, ال]|(17072,[14,68,262,917,3873,5354],[1.0,1.0,1.0,1...|  2.0|\n",
      "|                                 برنامج جدا جميل |     POS|                               [برنامج, جدا, جميل]|                (17072,[82,166,459],[1.0,1.0,1.0])|  2.0|\n",
      "+-------------------------------------------------+--------+--------------------------------------------------+--------------------------------------------------+-----+\n",
      "only showing top 10 rows\n",
      "\n"
     ]
    }
   ],
   "source": [
    "from pyspark.ml import Pipeline\n",
    "from pyspark.ml.feature import OneHotEncoder, StringIndexer, VectorAssembler\n",
    "label_stringIdx = StringIndexer(inputCol = \"Category\", outputCol = \"label\")\n",
    "pipeline = Pipeline(stages=[regexTokenizer, countVectors, label_stringIdx])\n",
    "# Fit the pipeline to training documents.\n",
    "pipelineFit = pipeline.fit(tweets)\n",
    "dataset = pipelineFit.transform(tweets)\n",
    "dataset.show(10,50)"
   ]
  },
  {
   "cell_type": "code",
   "execution_count": 5,
   "metadata": {
    "scrolled": true
   },
   "outputs": [
    {
     "name": "stdout",
     "output_type": "stream",
     "text": [
      "Training Dataset Count: 5654\n",
      "Test Dataset Count: 2335\n"
     ]
    }
   ],
   "source": [
    "#Partition Training & Test sets\n",
    "# set seed for reproducibility\n",
    "(trainingData, testData) = dataset.randomSplit([0.7, 0.3], seed = 100)\n",
    "print(\"Training Dataset Count: \" + str(trainingData.count()))\n",
    "print(\"Test Dataset Count: \" + str(testData.count()))"
   ]
  },
  {
   "cell_type": "code",
   "execution_count": 6,
   "metadata": {},
   "outputs": [
    {
     "name": "stdout",
     "output_type": "stream",
     "text": [
      "+----------+--------+-----------+-----+----------+\n",
      "|      text|Category|probability|label|prediction|\n",
      "+----------+--------+-----------+-----+----------+\n",
      "|قل اذا ...|     NEG| [0.9999...|  0.0|       0.0|\n",
      "|رييس تح...|     NEG| [0.9930...|  0.0|       0.0|\n",
      "|اين دول...|     NEG| [0.9891...|  0.0|       0.0|\n",
      "|يوم است...|     NEG| [0.9768...|  0.0|       0.0|\n",
      "|صار ريق...|     NEG| [0.9696...|  0.0|       0.0|\n",
      "|سعوديه ...|     NEG| [0.9679...|  0.0|       0.0|\n",
      "|تحدث جن...|     POS| [0.9670...|  2.0|       0.0|\n",
      "|حقين سك...|     NEG| [0.9655...|  0.0|       0.0|\n",
      "|ليش شرك...|     NEG| [0.9651...|  0.0|       0.0|\n",
      "|محمد بن...|     NEG| [0.9651...|  0.0|       0.0|\n",
      "+----------+--------+-----------+-----+----------+\n",
      "only showing top 10 rows\n",
      "\n"
     ]
    }
   ],
   "source": [
    "#Logistic Regression using Count Vector Features\n",
    "lr = LogisticRegression(maxIter=20, regParam=0.3, elasticNetParam=0)\n",
    "lrModel = lr.fit(trainingData)\n",
    "predictions = lrModel.transform(testData)\n",
    "predictions.filter(predictions['prediction'] == 0) \\\n",
    "    .select(\"text\",\"Category\",\"probability\",\"label\",\"prediction\") \\\n",
    "    .orderBy(\"probability\", ascending=False) \\\n",
    "    .show(n = 10, truncate = 10)"
   ]
  },
  {
   "cell_type": "code",
   "execution_count": 7,
   "metadata": {},
   "outputs": [
    {
     "data": {
      "text/plain": [
       "0.6792656838629382"
      ]
     },
     "execution_count": 7,
     "metadata": {},
     "output_type": "execute_result"
    }
   ],
   "source": [
    "from pyspark.ml.evaluation import MulticlassClassificationEvaluator\n",
    "evaluator = MulticlassClassificationEvaluator(predictionCol=\"prediction\")\n",
    "evaluator.evaluate(predictions)"
   ]
  },
  {
   "cell_type": "code",
   "execution_count": 8,
   "metadata": {},
   "outputs": [
    {
     "name": "stdout",
     "output_type": "stream",
     "text": [
      "+----------------------------------------------------------------------------------------------------+--------+---------------------------------------------------------------+-----+----------+\n",
      "|                                                                                                text|Category|                                                    probability|label|prediction|\n",
      "+----------------------------------------------------------------------------------------------------+--------+---------------------------------------------------------------+-----+----------+\n",
      "|قل اذا هدد وتح ضغط بعت بنان نذهب جميع لنجد ندعم اصدق انك نفس شخص اللذ سنه يتكلم يتصرفسعدالحرير قل...|     NEG| [0.9999760363629308,1.682738045158144E-5,7.136256617690415E-6]|  0.0|       0.0|\n",
      "|اين دوله عربيه اعط فلسطين طلق واحد حرب غزه اخيره ابن سعود ارسل اكفان نصر الله صواريخ كر… اين دوله...|     NEG|[0.9992480937334544,3.488727115958501E-4,4.0303355494990077E-4]|  0.0|       0.0|\n",
      "|ايا عمر فاروق عود جيوش فرس تنهي تامر يحاصر موت مليون كافر فف شرق هولاك وف غرب قيص… ن جيوش فرس تنه...|     POS|[0.9854802398485728,0.0036719816770789926,0.010847778474348167]|  2.0|       0.0|\n",
      "|سعوديه صفيح هيب ساخ متفجر قواس اواد داخل خارج تدفع ثمن ارهاب ايد وكل يحصل هو مقدمه والات اعظمالسع...|     NEG| [0.9801727729784417,0.008809867697983816,0.011017359323574404]|  0.0|       0.0|\n",
      "|مسلماني اغل متحدث اعلامي رييس اشهر كذاب منافق مضلل محرض تحول الي قليل ادب وضع معارض جيش سله قمامه...|     NEG| [0.9785276719739653,0.019136319390292134,0.002336008635742546]|  0.0|       0.0|\n",
      "|مسلماني اغل متحدث اعلامي رييس اشهر كذاب منافق مضلل محرض تحول الي قليل ادب وضع معارض جيش سله قمامه...|     NEG| [0.9785276719739653,0.019136319390292134,0.002336008635742546]|  0.0|       0.0|\n",
      "|اهمال ادار مرافق عامه يود لقتل متوال مصر جريم استحق عقاب جناء افتقاد رويه رامج اصلاح فشل استحق عق...|     NEG| [0.9735461069965777,0.012928726218733231,0.013525166784689038]|  0.0|       0.0|\n",
      "|تعلم ان حارس منتخب سور حال شبيح اخو شرموط كان يحمل سلاح يقتل سور ابرياء والل شكل ما… سلاح يقتل سو...|     NEG| [0.9710639605171212,0.014783568059746502,0.014152471423132178]|  0.0|       0.0|\n",
      "|                    صفو حجاز يهاجم شيوخ سلف الل قاعد بيو امال فين مقول لحوم علماء مسموم الل قرف بيه |     NEG| [0.9656757053154502,0.018903929730281585,0.015420364954268151]|  0.0|       0.0|\n",
      "|  هجوم بلطجيه تحت حما جيش شرط انطلق في ورسعيد زقازيق وبن جرايم جديد في ملف عصاب انقلاب ملف اكتظ فاض |     NEG|  [0.9652746413280134,0.02338702392226609,0.011338334749720454]|  0.0|       0.0|\n",
      "+----------------------------------------------------------------------------------------------------+--------+---------------------------------------------------------------+-----+----------+\n",
      "only showing top 10 rows\n",
      "\n"
     ]
    }
   ],
   "source": [
    "#Logistic Regression using TF-IDF Features\n",
    "from pyspark.ml.feature import HashingTF, IDF\n",
    "hashingTF = HashingTF(inputCol=\"words\", outputCol=\"rawFeatures\", numFeatures=10000)\n",
    "idf = IDF(inputCol=\"rawFeatures\", outputCol=\"features\", minDocFreq=5) #minDocFreq: remove sparse terms\n",
    "pipeline = Pipeline(stages=[regexTokenizer, hashingTF, idf, label_stringIdx])\n",
    "pipelineFit = pipeline.fit(tweets)\n",
    "dataset = pipelineFit.transform(tweets)\n",
    "(trainingData, testData) = dataset.randomSplit([0.7, 0.3], seed = 100)\n",
    "lr = LogisticRegression(maxIter=20, regParam=0.3, elasticNetParam=0)\n",
    "lrModel = lr.fit(trainingData)\n",
    "predictions = lrModel.transform(testData)\n",
    "predictions.filter(predictions['prediction'] == 0) \\\n",
    "    .select(\"text\",\"Category\",\"probability\",\"label\",\"prediction\") \\\n",
    "    .orderBy(\"probability\", ascending=False) \\\n",
    "    .show(n = 10, truncate = 100)\n"
   ]
  },
  {
   "cell_type": "code",
   "execution_count": 9,
   "metadata": {},
   "outputs": [
    {
     "data": {
      "text/plain": [
       "0.6811880616486291"
      ]
     },
     "execution_count": 9,
     "metadata": {},
     "output_type": "execute_result"
    }
   ],
   "source": [
    "#Cross-Validation\n",
    "pipeline = Pipeline(stages=[regexTokenizer,countVectors, label_stringIdx])\n",
    "pipelineFit = pipeline.fit(tweets)\n",
    "dataset = pipelineFit.transform(tweets)\n",
    "(trainingData, testData) = dataset.randomSplit([0.7, 0.3], seed = 100)\n",
    "lr = LogisticRegression(maxIter=20, regParam=0.3, elasticNetParam=0)\n",
    "from pyspark.ml.tuning import ParamGridBuilder, CrossValidator\n",
    "# Create ParamGrid for Cross Validation\n",
    "paramGrid = (ParamGridBuilder()\n",
    "             .addGrid(lr.regParam, [0.1, 0.3, 0.5]) # regularization parameter\n",
    "             .addGrid(lr.elasticNetParam, [0.0, 0.1, 0.2]) # Elastic Net Parameter (Ridge = 0)\n",
    "#            .addGrid(model.maxIter, [10, 20, 50]) #Number of iterations\n",
    "#            .addGrid(idf.numFeatures, [10, 100, 1000]) # Number of features\n",
    "             .build())\n",
    "# Create 5-fold CrossValidator\n",
    "cv = CrossValidator(estimator=lr, \\\n",
    "                    estimatorParamMaps=paramGrid, \\\n",
    "                    evaluator=evaluator, \\\n",
    "                    numFolds=5)\n",
    "cvModel = cv.fit(trainingData)\n",
    "\n",
    "predictions = cvModel.transform(testData)\n",
    "# Evaluate best model\n",
    "evaluator = MulticlassClassificationEvaluator(predictionCol=\"prediction\")\n",
    "evaluator.evaluate(predictions)"
   ]
  },
  {
   "cell_type": "code",
   "execution_count": 10,
   "metadata": {},
   "outputs": [],
   "source": [
    "pl = predictions.select(\"label\", \"prediction\")"
   ]
  },
  {
   "cell_type": "code",
   "execution_count": 11,
   "metadata": {},
   "outputs": [
    {
     "name": "stdout",
     "output_type": "stream",
     "text": [
      "+-----+------------+\n",
      "|label|count(label)|\n",
      "+-----+------------+\n",
      "|  0.0|        1085|\n",
      "|  1.0|         600|\n",
      "|  2.0|         650|\n",
      "+-----+------------+\n",
      "\n"
     ]
    }
   ],
   "source": [
    "pl.groupby('label').agg({'label': 'count'}).show()"
   ]
  },
  {
   "cell_type": "code",
   "execution_count": 12,
   "metadata": {},
   "outputs": [
    {
     "name": "stdout",
     "output_type": "stream",
     "text": [
      "+----------+-----------------+\n",
      "|prediction|count(prediction)|\n",
      "+----------+-----------------+\n",
      "|       0.0|             1302|\n",
      "|       1.0|              465|\n",
      "|       2.0|              568|\n",
      "+----------+-----------------+\n",
      "\n"
     ]
    }
   ],
   "source": [
    "pl.groupby('prediction').agg({'prediction': 'count'}).show()"
   ]
  },
  {
   "cell_type": "code",
   "execution_count": 13,
   "metadata": {},
   "outputs": [
    {
     "data": {
      "text/plain": [
       "0.6869379014989293"
      ]
     },
     "execution_count": 13,
     "metadata": {},
     "output_type": "execute_result"
    }
   ],
   "source": [
    "pl.filter(pl.label == pl.prediction).count() / pl.count()"
   ]
  },
  {
   "cell_type": "code",
   "execution_count": 15,
   "metadata": {},
   "outputs": [
    {
     "name": "stdout",
     "output_type": "stream",
     "text": [
      "Model accuracy: 68.694%\n"
     ]
    }
   ],
   "source": [
    "acc = pl.filter(pl.label == pl.prediction).count() / pl.count()\n",
    "print(\"Model accuracy: %.3f%%\" % (acc * 100)) "
   ]
  },
  {
   "cell_type": "code",
   "execution_count": 11,
   "metadata": {},
   "outputs": [],
   "source": [
    "lrModel.save(\"myModelPath3\")"
   ]
  },
  {
   "cell_type": "code",
   "execution_count": null,
   "metadata": {},
   "outputs": [],
   "source": [
    "\n"
   ]
  },
  {
   "cell_type": "code",
   "execution_count": null,
   "metadata": {},
   "outputs": [],
   "source": []
  },
  {
   "cell_type": "code",
   "execution_count": null,
   "metadata": {},
   "outputs": [],
   "source": []
  },
  {
   "cell_type": "code",
   "execution_count": null,
   "metadata": {},
   "outputs": [],
   "source": []
  },
  {
   "cell_type": "code",
   "execution_count": null,
   "metadata": {},
   "outputs": [],
   "source": []
  },
  {
   "cell_type": "code",
   "execution_count": 16,
   "metadata": {},
   "outputs": [],
   "source": [
    "cvModel.save(\"vModel\")"
   ]
  },
  {
   "cell_type": "code",
   "execution_count": 19,
   "metadata": {},
   "outputs": [],
   "source": [
    "sameCVModel = CrossValidatorModel.load(\"vModel\")"
   ]
  },
  {
   "cell_type": "code",
   "execution_count": 18,
   "metadata": {},
   "outputs": [],
   "source": [
    "from pyspark.ml.tuning import  CrossValidatorModel"
   ]
  },
  {
   "cell_type": "code",
   "execution_count": 26,
   "metadata": {},
   "outputs": [
    {
     "name": "stdout",
     "output_type": "stream",
     "text": [
      "+--------------------+--------+--------------------+--------------------+-----+--------------------+--------------------+----------+\n",
      "|                text|Category|               words|            features|label|       rawPrediction|         probability|prediction|\n",
      "+--------------------+--------+--------------------+--------------------+-----+--------------------+--------------------+----------+\n",
      "|                    |     NEG|                  []|       (17072,[],[])|  0.0|[0.38419132882769...|[0.47073646302972...|       0.0|\n",
      "|                    |     NEG|                  []|       (17072,[],[])|  0.0|[0.38419132882769...|[0.47073646302972...|       0.0|\n",
      "|                    |     NEG|                  []|       (17072,[],[])|  0.0|[0.38419132882769...|[0.47073646302972...|       0.0|\n",
      "|                    |     NEG|                  []|       (17072,[],[])|  0.0|[0.38419132882769...|[0.47073646302972...|       0.0|\n",
      "|                    |     NEG|                  []|       (17072,[],[])|  0.0|[0.38419132882769...|[0.47073646302972...|       0.0|\n",
      "|                    | NEUTRAL|                  []|       (17072,[],[])|  1.0|[0.38419132882769...|[0.47073646302972...|       0.0|\n",
      "|                    | NEUTRAL|                  []|       (17072,[],[])|  1.0|[0.38419132882769...|[0.47073646302972...|       0.0|\n",
      "|                    | NEUTRAL|                  []|       (17072,[],[])|  1.0|[0.38419132882769...|[0.47073646302972...|       0.0|\n",
      "|                    | NEUTRAL|                  []|       (17072,[],[])|  1.0|[0.38419132882769...|[0.47073646302972...|       0.0|\n",
      "|                    | NEUTRAL|                  []|       (17072,[],[])|  1.0|[0.38419132882769...|[0.47073646302972...|       0.0|\n",
      "|                    | NEUTRAL|                  []|       (17072,[],[])|  1.0|[0.38419132882769...|[0.47073646302972...|       0.0|\n",
      "|                    |     POS|                  []|       (17072,[],[])|  2.0|[0.38419132882769...|[0.47073646302972...|       0.0|\n",
      "|                    |     POS|                  []|       (17072,[],[])|  2.0|[0.38419132882769...|[0.47073646302972...|       0.0|\n",
      "|                    |     POS|                  []|       (17072,[],[])|  2.0|[0.38419132882769...|[0.47073646302972...|       0.0|\n",
      "|                    |     POS|                  []|       (17072,[],[])|  2.0|[0.38419132882769...|[0.47073646302972...|       0.0|\n",
      "|                    |     POS|                  []|       (17072,[],[])|  2.0|[0.38419132882769...|[0.47073646302972...|       0.0|\n",
      "|                    |     POS|                  []|       (17072,[],[])|  2.0|[0.38419132882769...|[0.47073646302972...|       0.0|\n",
      "| ان تجد روحء تشب ...|     POS|[ان, تجد, روحء, ت...|(17072,[1,124,173...|  2.0|[-0.4953707545276...|[0.09443862997572...|       2.0|\n",
      "|100 الف دينار عشا...|     NEG|[100, الف, دينار,...|(17072,[31,103,10...|  0.0|[2.0539124099911,...|[0.91582732674611...|       0.0|\n",
      "|100 او كان هرب عب...|     NEG|[100, او, كان, هر...|(17072,[0,2,25,12...|  0.0|[3.08166197104921...|[0.98027335090766...|       0.0|\n",
      "+--------------------+--------+--------------------+--------------------+-----+--------------------+--------------------+----------+\n",
      "only showing top 20 rows\n",
      "\n"
     ]
    }
   ],
   "source": [
    "sameCVModel.transform(testData).show()"
   ]
  },
  {
   "cell_type": "code",
   "execution_count": null,
   "metadata": {},
   "outputs": [],
   "source": []
  },
  {
   "cell_type": "code",
   "execution_count": null,
   "metadata": {},
   "outputs": [],
   "source": []
  },
  {
   "cell_type": "code",
   "execution_count": null,
   "metadata": {},
   "outputs": [],
   "source": []
  },
  {
   "cell_type": "code",
   "execution_count": null,
   "metadata": {},
   "outputs": [],
   "source": []
  },
  {
   "cell_type": "code",
   "execution_count": null,
   "metadata": {},
   "outputs": [],
   "source": []
  },
  {
   "cell_type": "code",
   "execution_count": 53,
   "metadata": {},
   "outputs": [],
   "source": []
  },
  {
   "cell_type": "code",
   "execution_count": null,
   "metadata": {},
   "outputs": [],
   "source": []
  }
 ],
 "metadata": {
  "kernelspec": {
   "display_name": "Python 3",
   "language": "python",
   "name": "python3"
  },
  "language_info": {
   "codemirror_mode": {
    "name": "ipython",
    "version": 3
   },
   "file_extension": ".py",
   "mimetype": "text/x-python",
   "name": "python",
   "nbconvert_exporter": "python",
   "pygments_lexer": "ipython3",
   "version": "3.7.1"
  }
 },
 "nbformat": 4,
 "nbformat_minor": 2
}
