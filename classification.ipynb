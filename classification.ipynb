{
 "cells": [
  {
   "cell_type": "code",
   "execution_count": 98,
   "metadata": {},
   "outputs": [
    {
     "data": {
      "text/plain": [
       "7992"
      ]
     },
     "execution_count": 98,
     "metadata": {},
     "output_type": "execute_result"
    }
   ],
   "source": [
    "#Data Ingestion and Extraction\n",
    "from pyspark.sql import SparkSession\n",
    "jobDir = \"tweets1.json\"\n",
    "tweets = spark.read.json([jobDir])\n",
    "tweets.count() "
   ]
  },
  {
   "cell_type": "code",
   "execution_count": 99,
   "metadata": {},
   "outputs": [
    {
     "name": "stdout",
     "output_type": "stream",
     "text": [
      "root\n",
      " |-- text: string (nullable = true)\n",
      " |-- Category: string (nullable = true)\n",
      "\n"
     ]
    }
   ],
   "source": [
    "tweets = tweets.select(\"text\", \\\n",
    "                     \"Category\" )\n",
    "\n",
    "tweets.printSchema()"
   ]
  },
  {
   "cell_type": "code",
   "execution_count": null,
   "metadata": {},
   "outputs": [],
   "source": []
  },
  {
   "cell_type": "code",
   "execution_count": 100,
   "metadata": {},
   "outputs": [],
   "source": [
    "#Model Pipeline\n",
    "from pyspark.ml.feature import RegexTokenizer, StopWordsRemover, CountVectorizer\n",
    "from pyspark.ml.classification import LogisticRegression\n",
    "# regular expression tokenizer\n",
    "regexTokenizer = RegexTokenizer(inputCol=\"text\", outputCol=\"words\")\n",
    "\n",
    "countVectors = CountVectorizer(inputCol=\"words\", outputCol=\"features\")\n",
    "\n"
   ]
  },
  {
   "cell_type": "code",
   "execution_count": 101,
   "metadata": {},
   "outputs": [
    {
     "name": "stdout",
     "output_type": "stream",
     "text": [
      "+-------------------------------------------------+--------+-----------------------------------------------------------+----------------------------------------------------------------------------------------------+-----+\n",
      "|                                             text|Category|                                                      words|                                                                                      features|label|\n",
      "+-------------------------------------------------+--------+-----------------------------------------------------------+----------------------------------------------------------------------------------------------+-----+\n",
      "|               والل عجب عشان كتاب انجليز صعب كلم |     POS|                  [والل, عجب, عشان, كتاب, انجليز, صعب, كلم]|                          (17072,[68,109,147,351,644,1456,6074],[1.0,1.0,1.0,1.0,1.0,1.0,1.0])|  2.0|\n",
      "|               انه مفيد جدان انا اتعلم كثير اشيء |     POS|                  [انه, مفيد, جدان, انا, اتعلم, كثير, اشيء]|                       (17072,[19,22,126,3800,9802,13014,16094],[1.0,1.0,1.0,1.0,1.0,1.0,1.0])|  2.0|\n",
      "|           انه رنامج رايع يترجم كلم قطع باقص سرع |     POS|             [انه, رنامج, رايع, يترجم, كلم, قطع, باقص, سرع]|               (17072,[19,147,242,251,1087,2266,3234,14862],[1.0,1.0,1.0,1.0,1.0,1.0,1.0,1.0])|  2.0|\n",
      "|            رنامج جميل جدا يترجم كلم جمل فعل روع |     POS|              [رنامج, جميل, جدا, يترجم, كلم, جمل, فعل, روع]|                 (17072,[82,127,147,166,242,1341,3234,3282],[1.0,1.0,1.0,1.0,1.0,1.0,1.0,1.0])|  2.0|\n",
      "|قمه روعه الف شكر تقدير مجهود نافع جدا تحي احترام |     POS|[قمه, روعه, الف, شكر, تقدير, مجهود, نافع, جدا, تحي, احترام]|(17072,[82,97,103,398,635,1202,2404,4552,6402,7219],[1.0,1.0,1.0,1.0,1.0,1.0,1.0,1.0,1.0,1.0])|  2.0|\n",
      "|                         جميل اشخاص ايجد انجلزيه |     POS|                               [جميل, اشخاص, ايجد, انجلزيه]|                                               (17072,[166,881,14206,16489],[1.0,1.0,1.0,1.0])|  2.0|\n",
      "|                             عاش ايد برنامج رايع |     POS|                                   [عاش, ايد, برنامج, رايع]|                                                   (17072,[251,332,459,756],[1.0,1.0,1.0,1.0])|  2.0|\n",
      "|                         برنامج حلوو وانصح تحميل |     POS|                               [برنامج, حلوو, وانصح, تحميل]|                                              (17072,[459,3115,11912,15240],[1.0,1.0,1.0,1.0])|  2.0|\n",
      "|                        حلو والل صرت احل واجب ال |     POS|                            [حلو, والل, صرت, احل, واجب, ال]|                                   (17072,[14,68,262,917,3873,5354],[1.0,1.0,1.0,1.0,1.0,1.0])|  2.0|\n",
      "|                                 برنامج جدا جميل |     POS|                                        [برنامج, جدا, جميل]|                                                            (17072,[82,166,459],[1.0,1.0,1.0])|  2.0|\n",
      "+-------------------------------------------------+--------+-----------------------------------------------------------+----------------------------------------------------------------------------------------------+-----+\n",
      "only showing top 10 rows\n",
      "\n"
     ]
    }
   ],
   "source": [
    "from pyspark.ml import Pipeline\n",
    "from pyspark.ml.feature import OneHotEncoder, StringIndexer, VectorAssembler\n",
    "label_stringIdx = StringIndexer(inputCol = \"Category\", outputCol = \"label\")\n",
    "pipeline = Pipeline(stages=[regexTokenizer, countVectors, label_stringIdx])\n",
    "# Fit the pipeline to training documents.\n",
    "pipelineFit = pipeline.fit(tweets)\n",
    "dataset = pipelineFit.transform(tweets)\n",
    "dataset.show(10,100)"
   ]
  },
  {
   "cell_type": "code",
   "execution_count": 102,
   "metadata": {
    "scrolled": true
   },
   "outputs": [
    {
     "name": "stdout",
     "output_type": "stream",
     "text": [
      "Training Dataset Count: 5654\n",
      "Test Dataset Count: 2335\n"
     ]
    }
   ],
   "source": [
    "#Partition Training & Test sets\n",
    "# set seed for reproducibility\n",
    "(trainingData, testData) = dataset.randomSplit([0.7, 0.3], seed = 100)\n",
    "print(\"Training Dataset Count: \" + str(trainingData.count()))\n",
    "print(\"Test Dataset Count: \" + str(testData.count()))"
   ]
  },
  {
   "cell_type": "code",
   "execution_count": 103,
   "metadata": {},
   "outputs": [
    {
     "name": "stdout",
     "output_type": "stream",
     "text": [
      "+------------------------------+--------+------------------------------+-----+----------+\n",
      "|                          text|Category|                   probability|label|prediction|\n",
      "+------------------------------+--------+------------------------------+-----+----------+\n",
      "|قل اذا هدد وتح ضغط بعت بنان...|     NEG|[0.9999951647125606,1.45473...|  0.0|       0.0|\n",
      "|رييس تحرير عكاظ سعوديه راض ...|     NEG|[0.9930659029159837,0.00519...|  0.0|       0.0|\n",
      "|اين دوله عربيه اعط فلسطين ط...|     NEG|[0.9891689833078323,0.01061...|  0.0|       0.0|\n",
      "|يوم استقال غلبط بنان سعود ق...|     NEG|[0.9768467931718616,0.01140...|  0.0|       0.0|\n",
      "|صار ريق جداد عالساح جماع بح...|     NEG|[0.9696483677997423,0.01513...|  0.0|       0.0|\n",
      "|سعوديه صفيح هيب ساخ متفجر ق...|     NEG|[0.9679709021898679,0.01766...|  0.0|       0.0|\n",
      "|تحدث جنون جماهير بوك ريفر س...|     POS|[0.9670284653611705,0.00372...|  2.0|       0.0|\n",
      "|حقين سكران سكره رضو ضرايب م...|     NEG|[0.9655204386634646,0.02023...|  0.0|       0.0|\n",
      "|ليش شركا سامسونج مايكروسوف ...|     NEG|[0.9651614093354787,0.02083...|  0.0|       0.0|\n",
      "|محمد بن سلمان يسير خطي صدام...|     NEG|[0.9651319827933877,0.01848...|  0.0|       0.0|\n",
      "+------------------------------+--------+------------------------------+-----+----------+\n",
      "only showing top 10 rows\n",
      "\n"
     ]
    }
   ],
   "source": [
    "#Logistic Regression using Count Vector Features\n",
    "lr = LogisticRegression(maxIter=20, regParam=0.3, elasticNetParam=0)\n",
    "lrModel = lr.fit(trainingData)\n",
    "predictions = lrModel.transform(testData)\n",
    "predictions.filter(predictions['prediction'] == 0) \\\n",
    "    .select(\"text\",\"Category\",\"probability\",\"label\",\"prediction\") \\\n",
    "    .orderBy(\"probability\", ascending=False) \\\n",
    "    .show(n = 10, truncate = 30)\n"
   ]
  },
  {
   "cell_type": "code",
   "execution_count": 117,
   "metadata": {},
   "outputs": [
    {
     "data": {
      "text/plain": [
       "0.2948332644602227"
      ]
     },
     "execution_count": 117,
     "metadata": {},
     "output_type": "execute_result"
    }
   ],
   "source": [
    "from pyspark.ml.evaluation import MulticlassClassificationEvaluator\n",
    "evaluator = MulticlassClassificationEvaluator(predictionCol=\"prediction\")\n",
    "evaluator.evaluate(predictions)"
   ]
  },
  {
   "cell_type": "code",
   "execution_count": 105,
   "metadata": {},
   "outputs": [
    {
     "name": "stdout",
     "output_type": "stream",
     "text": [
      "+------------------------------+--------+------------------------------+-----+----------+\n",
      "|                          text|Category|                   probability|label|prediction|\n",
      "+------------------------------+--------+------------------------------+-----+----------+\n",
      "|قل اذا هدد وتح ضغط بعت بنان...|     NEG|[0.9999760363629308,1.68273...|  0.0|       0.0|\n",
      "|اين دوله عربيه اعط فلسطين ط...|     NEG|[0.9992480937334544,3.48872...|  0.0|       0.0|\n",
      "|ايا عمر فاروق عود جيوش فرس ...|     POS|[0.9854802398485728,0.00367...|  2.0|       0.0|\n",
      "|سعوديه صفيح هيب ساخ متفجر ق...|     NEG|[0.9801727729784417,0.00880...|  0.0|       0.0|\n",
      "|مسلماني اغل متحدث اعلامي ري...|     NEG|[0.9785276719739653,0.01913...|  0.0|       0.0|\n",
      "|مسلماني اغل متحدث اعلامي ري...|     NEG|[0.9785276719739653,0.01913...|  0.0|       0.0|\n",
      "|اهمال ادار مرافق عامه يود ل...|     NEG|[0.9735461069965777,0.01292...|  0.0|       0.0|\n",
      "|تعلم ان حارس منتخب سور حال ...|     NEG|[0.9710639605171212,0.01478...|  0.0|       0.0|\n",
      "|صفو حجاز يهاجم شيوخ سلف الل...|     NEG|[0.9656757053154502,0.01890...|  0.0|       0.0|\n",
      "|هجوم بلطجيه تحت حما جيش شرط...|     NEG|[0.9652746413280134,0.02338...|  0.0|       0.0|\n",
      "+------------------------------+--------+------------------------------+-----+----------+\n",
      "only showing top 10 rows\n",
      "\n"
     ]
    }
   ],
   "source": [
    "#Logistic Regression using TF-IDF Features\n",
    "from pyspark.ml.feature import HashingTF, IDF\n",
    "hashingTF = HashingTF(inputCol=\"words\", outputCol=\"rawFeatures\", numFeatures=10000)\n",
    "idf = IDF(inputCol=\"rawFeatures\", outputCol=\"features\", minDocFreq=5) #minDocFreq: remove sparse terms\n",
    "pipeline = Pipeline(stages=[regexTokenizer, hashingTF, idf, label_stringIdx])\n",
    "pipelineFit = pipeline.fit(tweets)\n",
    "dataset = pipelineFit.transform(tweets)\n",
    "(trainingData, testData) = dataset.randomSplit([0.7, 0.3], seed = 100)\n",
    "lr = LogisticRegression(maxIter=20, regParam=0.3, elasticNetParam=0)\n",
    "lrModel = lr.fit(trainingData)\n",
    "predictions = lrModel.transform(testData)\n",
    "predictions.filter(predictions['prediction'] == 0) \\\n",
    "    .select(\"text\",\"Category\",\"probability\",\"label\",\"prediction\") \\\n",
    "    .orderBy(\"probability\", ascending=False) \\\n",
    "    .show(n = 10, truncate = 30)"
   ]
  },
  {
   "cell_type": "code",
   "execution_count": 106,
   "metadata": {},
   "outputs": [
    {
     "data": {
      "text/plain": [
       "0.6811880616486291"
      ]
     },
     "execution_count": 106,
     "metadata": {},
     "output_type": "execute_result"
    }
   ],
   "source": [
    "#Cross-Validation\n",
    "pipeline = Pipeline(stages=[regexTokenizer,countVectors, label_stringIdx])\n",
    "pipelineFit = pipeline.fit(tweets)\n",
    "dataset = pipelineFit.transform(tweets)\n",
    "(trainingData, testData) = dataset.randomSplit([0.7, 0.3], seed = 100)\n",
    "lr = LogisticRegression(maxIter=20, regParam=0.3, elasticNetParam=0)\n",
    "from pyspark.ml.tuning import ParamGridBuilder, CrossValidator\n",
    "# Create ParamGrid for Cross Validation\n",
    "paramGrid = (ParamGridBuilder()\n",
    "             .addGrid(lr.regParam, [0.1, 0.3, 0.5]) # regularization parameter\n",
    "             .addGrid(lr.elasticNetParam, [0.0, 0.1, 0.2]) # Elastic Net Parameter (Ridge = 0)\n",
    "#            .addGrid(model.maxIter, [10, 20, 50]) #Number of iterations\n",
    "#            .addGrid(idf.numFeatures, [10, 100, 1000]) # Number of features\n",
    "             .build())\n",
    "# Create 5-fold CrossValidator\n",
    "cv = CrossValidator(estimator=lr, \\\n",
    "                    estimatorParamMaps=paramGrid, \\\n",
    "                    evaluator=evaluator, \\\n",
    "                    numFolds=5)\n",
    "cvModel = cv.fit(trainingData)\n",
    "\n",
    "predictions = cvModel.transform(testData)\n",
    "# Evaluate best model\n",
    "evaluator = MulticlassClassificationEvaluator(predictionCol=\"prediction\")\n",
    "evaluator.evaluate(predictions)"
   ]
  },
  {
   "cell_type": "code",
   "execution_count": 107,
   "metadata": {},
   "outputs": [
    {
     "name": "stdout",
     "output_type": "stream",
     "text": [
      "+------------------------------+--------+------------------------------+-----+----------+\n",
      "|                          text|Category|                   probability|label|prediction|\n",
      "+------------------------------+--------+------------------------------+-----+----------+\n",
      "|قل اذا هدد وتح ضغط بعت بنان...|     NEG|[1.0,3.8926662561845564E-30...|  0.0|       0.0|\n",
      "|اين دوله عربيه اعط فلسطين ط...|     NEG|[0.9999999999999618,3.81754...|  0.0|       0.0|\n",
      "|يوم استقال غلبط بنان سعود ق...|     NEG|[0.999999999999921,7.914688...|  0.0|       0.0|\n",
      "|رييس تحرير عكاظ سعوديه راض ...|     NEG|[0.9999999999995806,4.19351...|  0.0|       0.0|\n",
      "|لم اكن اريد اكبر السن تنقلب...|     NEG|[0.9999999999670981,2.75367...|  0.0|       0.0|\n",
      "|الله يستر قادم تكون استقال ...|     NEG|[0.9999999999017894,9.82041...|  0.0|       0.0|\n",
      "|محمد بن سلمان يسير خطي صدام...|     NEG|[0.9999999987254311,1.14917...|  0.0|       0.0|\n",
      "|الله يستر قادم تكون استقال ...|     NEG|[0.9999999959887278,4.01043...|  0.0|       0.0|\n",
      "|تغييب دوله مدنيه  دول دستور...|     NEG|[0.9999999947532829,2.43087...|  0.0|       0.0|\n",
      "|سعوديه صفيح هيب ساخ متفجر ق...|     NEG|[0.9999999943587667,5.61265...|  0.0|       0.0|\n",
      "+------------------------------+--------+------------------------------+-----+----------+\n",
      "only showing top 10 rows\n",
      "\n"
     ]
    }
   ],
   "source": [
    "#Naive Bayes\n",
    "from pyspark.ml.classification import NaiveBayes\n",
    "nb = NaiveBayes(smoothing=1)\n",
    "model = nb.fit(trainingData)\n",
    "predictions = model.transform(testData)\n",
    "predictions.filter(predictions['prediction'] == 0) \\\n",
    "    .select(\"text\",\"Category\",\"probability\",\"label\",\"prediction\") \\\n",
    "    .orderBy(\"probability\", ascending=False) \\\n",
    "    .show(n = 10, truncate = 30)"
   ]
  },
  {
   "cell_type": "code",
   "execution_count": 108,
   "metadata": {},
   "outputs": [
    {
     "data": {
      "text/plain": [
       "0.6642816494568803"
      ]
     },
     "execution_count": 108,
     "metadata": {},
     "output_type": "execute_result"
    }
   ],
   "source": [
    "evaluator = MulticlassClassificationEvaluator(predictionCol=\"prediction\")\n",
    "evaluator.evaluate(predictions)"
   ]
  },
  {
   "cell_type": "code",
   "execution_count": 109,
   "metadata": {},
   "outputs": [
    {
     "name": "stdout",
     "output_type": "stream",
     "text": [
      "+------------------------------+--------+------------------------------+-----+----------+\n",
      "|                          text|Category|                   probability|label|prediction|\n",
      "+------------------------------+--------+------------------------------+-----+----------+\n",
      "|نفاق انفصام امس استقبل مستش...|     NEG|[0.510664191235817,0.250437...|  0.0|       0.0|\n",
      "|نفاق انفصام امس استقبل مستش...|     NEG|[0.510664191235817,0.250437...|  0.0|       0.0|\n",
      "|نفاق انفصام امس استقبل مستش...|     NEG|[0.510664191235817,0.250437...|  0.0|       0.0|\n",
      "|الي رجال اعمال اموال سعوديه...|     NEG|[0.5082835143911532,0.24858...|  0.0|       0.0|\n",
      "|اظن ان افسد شيء فعل اصلاح ي...|     NEG|[0.507506887355017,0.255576...|  0.0|       0.0|\n",
      "|سور لبن لاجء فيز جواز ضرايب...|     NEG|[0.5071252677764823,0.25109...|  0.0|       0.0|\n",
      "|في زمن انقلاب قتل مسلم ملتح...|     NEG|[0.5061767079865583,0.25642...|  0.0|       0.0|\n",
      "|الله يستر قادم تكون استقال ...|     NEG|[0.5046332567240381,0.25249...|  0.0|       0.0|\n",
      "|الله يستر قادم تكون استقال ...|     NEG|[0.5046332567240381,0.25249...|  0.0|       0.0|\n",
      "|وقاحه سعوديه انفعال صاروخ س...|     NEG|[0.5041246106305518,0.25564...|  0.0|       0.0|\n",
      "|يوجد دول مليشيا مسلح ترسل د...|     NEG|[0.5041246106305518,0.25564...|  0.0|       0.0|\n",
      "|ست زينب دعم منظما ارهاب سور...|     NEG|[0.5041246106305518,0.25564...|  0.0|       0.0|\n",
      "|ست زينب دعم منظما ارهاب سور...|     NEG|[0.5041246106305518,0.25564...|  0.0|       0.0|\n",
      "|وقاحه سعوديه انفعال صاروخ س...|     NEG|[0.5041246106305518,0.25564...|  0.0|       0.0|\n",
      "|توقيف لبنان ابراهيم زعرور س...|     NEG|[0.503896331468069,0.256411...|  0.0|       0.0|\n",
      "|توقيف لبنان ابراهيم زعرور س...|     NEG|[0.503896331468069,0.256411...|  0.0|       0.0|\n",
      "|ادين مثل باق مصر جميع اعتدا...|     NEG|[0.5035226000373965,0.25813...|  0.0|       0.0|\n",
      "|دكتور حازم ببلاوي طلع اخوان...| NEUTRAL|[0.5035226000373965,0.25813...|  1.0|       0.0|\n",
      "|اخو انهم يعرف ان شعب شوي ال...|     NEG|[0.5035226000373965,0.25813...|  0.0|       0.0|\n",
      "|   اخو جماع ارهاب وهم قتل ابن |     NEG|[0.5035226000373965,0.25813...|  0.0|       0.0|\n",
      "|سعوديه صفيح هيب ساخ متفجر ق...|     NEG|[0.5016716208046322,0.25654...|  0.0|       0.0|\n",
      "|استقال حرير تعل اننا دخل دو...|     NEG|[0.5013340606143748,0.25706...|  0.0|       0.0|\n",
      "|تجمع وطن استقال حرير مشب ته...|     NEG|[0.5012559090990248,0.25709...|  0.0|       0.0|\n",
      "|رييس زراءلبن سعد حرير يقدم ...| NEUTRAL|[0.5007280657672049,0.25868...|  1.0|       0.0|\n",
      "|يمك وضع مال ان استقر قبل اخ...|     NEG|[0.5007061412893244,0.25728...|  0.0|       0.0|\n",
      "|جعل يدعم ارهاب يرجع الي حجم...|     NEG|[0.5003480913928675,0.25743...|  0.0|       0.0|\n",
      "|        ارهاب نهاي مزبل تاريخ |     NEG|[0.5003480913928675,0.25743...|  0.0|       0.0|\n",
      "|استكمل نظام ارهاب هستيريا ا...|     NEG|[0.5003480913928675,0.25743...|  0.0|       0.0|\n",
      "|سوري تقدر مواقف مبدييه صادق...|     POS|[0.5003480913928675,0.25743...|  2.0|       0.0|\n",
      "|مصر احرار شعب مصر عظيم حان ...|     POS|[0.5003480913928675,0.25743...|  2.0|       0.0|\n",
      "|نسمع اخبار اعتقالا تهم ساد ...|     NEG|[0.5003480913928675,0.25743...|  0.0|       0.0|\n",
      "|يجري في يناء ارهاب يروح ضحي...|     NEG|[0.5003480913928675,0.25743...|  0.0|       0.0|\n",
      "|نايب زياد اسود فتر قال كلم ...|     NEG|[0.5001556285590695,0.26120...|  0.0|       0.0|\n",
      "|سعوديه اعتقالا حجز اموال حج...|     NEG|[0.5000436571556625,0.25158...|  0.0|       0.0|\n",
      "|بساط دستور بن باطل لذل فهو ...|     NEG|[0.49923962377165787,0.2583...|  0.0|       0.0|\n",
      "|اسمع سبهان اصح نعسان كثر كل...|     NEG|[0.4989746938218124,0.25741...|  0.0|       0.0|\n",
      "|كلم السر تلق حرير قدم استقا...|     NEG|[0.49887187388227594,0.2586...|  0.0|       0.0|\n",
      "|مقارن مش محل عم تقار وضع لا...|     NEG|[0.4987668098584581,0.25818...|  0.0|       0.0|\n",
      "|  وضع مال معك  مش التن خميس ✋ | NEUTRAL|[0.4987668098584581,0.25818...|  1.0|       0.0|\n",
      "|يوسف حسين فيديو يفضح كذب قن...|     NEG|[0.49868323243762164,0.2588...|  0.0|       0.0|\n",
      "|محمد بن سلمان يسير خطي صدام...|     NEG|[0.49860205384838674,0.2568...|  0.0|       0.0|\n",
      "|شعب واح شعب يحبون رقص نفاق ...| NEUTRAL|[0.4984661554082546,0.25602...|  1.0|       0.0|\n",
      "|      هضه غرور والء يدعم نفاق |     NEG|[0.4984661554082546,0.25602...|  0.0|       0.0|\n",
      "|مصر تعيش وضع ماساو اوصال دو...|     NEG|[0.4984185966288027,0.25650...|  0.0|       0.0|\n",
      "|حرك جهاد يان استنكر اعتبار ...|     NEG|[0.4982993730756655,0.25570...|  0.0|       0.0|\n",
      "|حماس حزب الله منظم ارهاب مض...| NEUTRAL|[0.4982993730756655,0.25570...|  1.0|       0.0|\n",
      "|حرك جهاد يان استنكر اعتبار ...|     NEG|[0.4982993730756655,0.25570...|  0.0|       0.0|\n",
      "|ذمه سيد ول عهد صاحب سمو ملك...|     NEG|[0.4980385731215937,0.25191...|  0.0|       0.0|\n",
      "|اذا كان اعاده مرس شفيق واجب...| NEUTRAL|[0.49768838323489845,0.2615...|  1.0|       0.0|\n",
      "|مش الل لسه يهر يعمل كده طال...|     NEG|[0.49748579042151353,0.2587...|  0.0|       0.0|\n",
      "|😂 سلاح موجود مقدم دستور لي...|     NEG|[0.4974556700470378,0.25674...|  0.0|       0.0|\n",
      "|استقال حرير فاتح التقاء زعم...|     NEG|[0.4972766623347987,0.25984...|  0.0|       0.0|\n",
      "|احي شيخ حسن عبد بصير امام م...| NEUTRAL|[0.4972051342954497,0.27087...|  1.0|       0.0|\n",
      "|ماتدافعش كذب تقول مش اخوان ...|     NEG|[0.4967406359935274,0.25682...|  0.0|       0.0|\n",
      "|زياد بارود يدعو الي وضع است...|     NEG|[0.4967171477045374,0.25829...|  0.0|       0.0|\n",
      "|  يقف ضد مواج ارهاب مصر ارهاب |     NEG|[0.4966517494247254,0.26365...|  0.0|       0.0|\n",
      "|صلتني رسال مشجع كروي الي طا...| NEUTRAL|[0.49651606109503355,0.2606...|  1.0|       0.0|\n",
      "|يحصل سعد حرير مقبول مهم كان...|     NEG|[0.4964123671476768,0.26140...|  0.0|       0.0|\n",
      "|عباد حرب قادمه مكافح ارهاب ...|     POS|[0.49615637875069374,0.2664...|  2.0|       0.0|\n",
      "|مثل قول ادفش شوف اجحش طبق ب...|     NEG|[0.49605936983804183,0.2541...|  0.0|       0.0|\n",
      "|هذاالفيلم سعود امارات صول س...|     NEG|[0.49605936983804183,0.2541...|  0.0|       0.0|\n",
      "|هذاالفيلم سعود امارات صول س...|     NEG|[0.49605936983804183,0.2541...|  0.0|       0.0|\n",
      "|تصير كثير مال دخل محمد بن س...| NEUTRAL|[0.49605936983804183,0.2541...|  1.0|       0.0|\n",
      "|تصير كثير مال دخل محمد بن س...|     NEG|[0.49605936983804183,0.2541...|  0.0|       0.0|\n",
      "|عدم مغادر عايل حرير كله رنس...|     NEG|[0.49605569702074753,0.2586...|  0.0|       0.0|\n",
      "|منتخب كوري شماليه يطلب لجوء...|     NEG|[0.4959870578706606,0.26112...|  0.0|       0.0|\n",
      "|انا نفس اخطط ارتب اصرف لوس ...|     NEG|[0.4957091918137516,0.26166...|  0.0|       0.0|\n",
      "|عندم فشل مخطط ماسون عالم قي...|     NEG|[0.4957088668030887,0.25892...|  0.0|       0.0|\n",
      "|امارا ندامه تفرض شروط استمر...|     NEG|[0.495598777993061,0.257692...|  0.0|       0.0|\n",
      "|مسلماني اغل متحدث اعلامي ري...|     NEG|[0.4955296235824583,0.25969...|  0.0|       0.0|\n",
      "|مسلماني اغل متحدث اعلامي ري...|     NEG|[0.4955296235824583,0.25969...|  0.0|       0.0|\n",
      "|ثاير الحر معتقل سجون انقلاب...| NEUTRAL|[0.49547934811056943,0.2618...|  1.0|       0.0|\n",
      "|يعن استقال حرير محاول اغتيا...|     NEG|[0.49542801740669934,0.2629...|  0.0|       0.0|\n",
      "|اعلان استقال رييس يغرد ينشر...|     NEG|[0.4953568326834187,0.26293...|  0.0|       0.0|\n",
      "|يان استقاله سعوديه سعود حبر...|     NEG|[0.4952524490837937,0.25963...|  0.0|       0.0|\n",
      "|يفضح كذب قنا جزيره يكشف تمث...|     NEG|[0.49506239683692027,0.2606...|  0.0|       0.0|\n",
      "|اذا صدق خبر تاجير انقلاب اه...|     NEG|[0.49502005540177185,0.2626...|  0.0|       0.0|\n",
      "|نفاق مدمر طاهر ابو زيد يلغ ...|     NEG|[0.49471910850426404,0.2667...|  0.0|       0.0|\n",
      "|صاروخ مبارك وصل حام الله ال...|     NEG|[0.4946889099903781,0.25155...|  0.0|       0.0|\n",
      "|انفعال سعود صاروخ مبارك ريا...|     NEG|[0.4946889099903781,0.25155...|  0.0|       0.0|\n",
      "|انفعال سعود صاروخ مبارك ريا...|     NEG|[0.4946889099903781,0.25155...|  0.0|       0.0|\n",
      "|اشتراك استفتاء بايس اعتراف ...|     NEG|[0.49457907351155195,0.2631...|  0.0|       0.0|\n",
      "|سوال ال 10 الاف جني ال يوعد...| NEUTRAL|[0.4945584553825768,0.25645...|  1.0|       0.0|\n",
      "|اهتز لء انتقاد يكف ان متحال...|     NEG|[0.49443058426270575,0.2585...|  0.0|       0.0|\n",
      "|اهتز لء انتقاد يكف ان متحال...| NEUTRAL|[0.49443058426270575,0.2585...|  1.0|       0.0|\n",
      "|بعد حد افشل رييس كذب اخلاف ...|     NEG|[0.49439892971216776,0.2619...|  0.0|       0.0|\n",
      "|حضيف الجب يرتو تغريد يتهم م...|     NEG|[0.494281044190467,0.263387...|  0.0|       0.0|\n",
      "|كان هددو قالول تقرء يان مثل...|     NEG|[0.4941577819155038,0.25939...|  0.0|       0.0|\n",
      "|طيب شو دخل لازم نامق الل يا...|     NEG|[0.494038956316165,0.261009...|  0.0|       0.0|\n",
      "|ماحدش معارض مرس متصور هيفرض...|     NEG|[0.49397687805256035,0.2641...|  0.0|       0.0|\n",
      "|حقين سكران سكره رضو ضرايب م...|     NEG|[0.4939555001414434,0.25754...|  0.0|       0.0|\n",
      "|زمن قمع دكتاتور بوط ليس دين...|     POS|[0.49370928920135176,0.2538...|  2.0|       0.0|\n",
      "|استسلم تهديدا انقلاب عسكري ...| NEUTRAL|[0.4936931288127674,0.26087...|  1.0|       0.0|\n",
      "|نرد زعير انك تهتم لبن اطلاق...|     NEG|[0.49368994022744117,0.2568...|  0.0|       0.0|\n",
      "|اسوان رييس تظن كذب يضركبالع...| NEUTRAL|[0.49362479943612997,0.2615...|  1.0|       0.0|\n",
      "|عاقل موم بالله دون عود يامل...|     NEG|[0.4935129867923171,0.26071...|  0.0|       0.0|\n",
      "|عاقل موم بالله دون عود يامل...|     NEG|[0.4935129867923171,0.26071...|  0.0|       0.0|\n",
      "|اعتقال باء وانتشر في مصر حب...| NEUTRAL|[0.4934894715734998,0.25966...|  1.0|       0.0|\n",
      "|تقصد نهب مواط يحدث يوم اعتق...|     NEG|[0.4934894715734998,0.25966...|  0.0|       0.0|\n",
      "|داخليه تعل اعتقال شخص مروج ...| NEUTRAL|[0.4934894715734998,0.25966...|  1.0|       0.0|\n",
      "+------------------------------+--------+------------------------------+-----+----------+\n",
      "only showing top 100 rows\n",
      "\n"
     ]
    }
   ],
   "source": [
    "#Random Forest\n",
    "from pyspark.ml.classification import RandomForestClassifier\n",
    "rf = RandomForestClassifier(labelCol=\"label\", \\\n",
    "                            featuresCol=\"features\", \\\n",
    "                            numTrees = 100, \\\n",
    "                            maxDepth = 4, \\\n",
    "                            maxBins = 32)\n",
    "# Train model with Training Data\n",
    "rfModel = rf.fit(trainingData)\n",
    "predictions = rfModel.transform(testData)\n",
    "predictions.filter(predictions['prediction'] == 0) \\\n",
    "    .select(\"text\",\"Category\",\"probability\",\"label\",\"prediction\") \\\n",
    "    .orderBy(\"probability\", ascending=False) \\\n",
    "    .show(n = 100, truncate = 30)"
   ]
  },
  {
   "cell_type": "code",
   "execution_count": 110,
   "metadata": {},
   "outputs": [
    {
     "data": {
      "text/plain": [
       "0.2948332644602227"
      ]
     },
     "execution_count": 110,
     "metadata": {},
     "output_type": "execute_result"
    }
   ],
   "source": [
    "evaluator = MulticlassClassificationEvaluator(predictionCol=\"prediction\")\n",
    "evaluator.evaluate(predictions)"
   ]
  },
  {
   "cell_type": "code",
   "execution_count": 111,
   "metadata": {},
   "outputs": [],
   "source": [
    "pl = predictions.select(\"label\", \"prediction\")\n"
   ]
  },
  {
   "cell_type": "code",
   "execution_count": 112,
   "metadata": {},
   "outputs": [
    {
     "name": "stdout",
     "output_type": "stream",
     "text": [
      "+-----+------------+\n",
      "|label|count(label)|\n",
      "+-----+------------+\n",
      "|  0.0|        1085|\n",
      "|  1.0|         600|\n",
      "|  2.0|         650|\n",
      "+-----+------------+\n",
      "\n"
     ]
    }
   ],
   "source": [
    "pl.groupby('label').agg({'label': 'count'}).show()\n"
   ]
  },
  {
   "cell_type": "code",
   "execution_count": 118,
   "metadata": {},
   "outputs": [
    {
     "name": "stdout",
     "output_type": "stream",
     "text": [
      "+----------+-----------------+\n",
      "|prediction|count(prediction)|\n",
      "+----------+-----------------+\n",
      "|       0.0|             2335|\n",
      "+----------+-----------------+\n",
      "\n"
     ]
    }
   ],
   "source": [
    "pl.groupby('prediction').agg({'prediction': 'count'}).show()\n"
   ]
  },
  {
   "cell_type": "code",
   "execution_count": 114,
   "metadata": {},
   "outputs": [
    {
     "data": {
      "text/plain": [
       "0.46466809421841543"
      ]
     },
     "execution_count": 114,
     "metadata": {},
     "output_type": "execute_result"
    }
   ],
   "source": [
    "pl.filter(pl.label == pl.prediction).count() / pl.count()"
   ]
  },
  {
   "cell_type": "code",
   "execution_count": 115,
   "metadata": {},
   "outputs": [
    {
     "name": "stdout",
     "output_type": "stream",
     "text": [
      "Model accuracy: 46.467%\n"
     ]
    }
   ],
   "source": [
    "def accuracy_m(model): \n",
    "    predictions = model.transform(testData)\n",
    "    pl = predictions.select(\"label\", \"prediction\")\n",
    "    acc = pl.filter(pl.label == pl.prediction).count() / pl.count()\n",
    "    print(\"Model accuracy: %.3f%%\" % (acc * 100)) \n",
    "accuracy_m(model = rfModel)\n"
   ]
  },
  {
   "cell_type": "code",
   "execution_count": null,
   "metadata": {},
   "outputs": [],
   "source": []
  },
  {
   "cell_type": "code",
   "execution_count": null,
   "metadata": {},
   "outputs": [],
   "source": []
  },
  {
   "cell_type": "code",
   "execution_count": null,
   "metadata": {},
   "outputs": [],
   "source": []
  },
  {
   "cell_type": "code",
   "execution_count": 127,
   "metadata": {},
   "outputs": [],
   "source": []
  },
  {
   "cell_type": "code",
   "execution_count": 128,
   "metadata": {},
   "outputs": [],
   "source": []
  },
  {
   "cell_type": "code",
   "execution_count": null,
   "metadata": {},
   "outputs": [],
   "source": []
  },
  {
   "cell_type": "code",
   "execution_count": 130,
   "metadata": {},
   "outputs": [],
   "source": []
  },
  {
   "cell_type": "code",
   "execution_count": 131,
   "metadata": {},
   "outputs": [],
   "source": []
  },
  {
   "cell_type": "code",
   "execution_count": null,
   "metadata": {},
   "outputs": [],
   "source": []
  },
  {
   "cell_type": "code",
   "execution_count": 133,
   "metadata": {},
   "outputs": [],
   "source": []
  },
  {
   "cell_type": "code",
   "execution_count": null,
   "metadata": {},
   "outputs": [],
   "source": []
  },
  {
   "cell_type": "code",
   "execution_count": null,
   "metadata": {},
   "outputs": [],
   "source": []
  },
  {
   "cell_type": "code",
   "execution_count": null,
   "metadata": {},
   "outputs": [],
   "source": []
  }
 ],
 "metadata": {
  "kernelspec": {
   "display_name": "Python 3",
   "language": "python",
   "name": "python3"
  },
  "language_info": {
   "codemirror_mode": {
    "name": "ipython",
    "version": 3
   },
   "file_extension": ".py",
   "mimetype": "text/x-python",
   "name": "python",
   "nbconvert_exporter": "python",
   "pygments_lexer": "ipython3",
   "version": "3.7.1"
  }
 },
 "nbformat": 4,
 "nbformat_minor": 2
}
